{
  "nbformat": 4,
  "nbformat_minor": 0,
  "metadata": {
    "colab": {
      "name": "Submission 03 - Image Classification Model Deployment (Final).ipynb",
      "provenance": [],
      "collapsed_sections": [],
      "toc_visible": true
    },
    "kernelspec": {
      "name": "python3",
      "display_name": "Python 3"
    },
    "accelerator": "GPU"
  },
  "cells": [
    {
      "cell_type": "markdown",
      "metadata": {
        "id": "d8dfMfQYgayQ",
        "colab_type": "text"
      },
      "source": [
        "Datasets yang akan dipergunakan adalah https://www.kaggle.com/ashishjangra27/face-mask-12k-images-dataset"
      ]
    },
    {
      "cell_type": "markdown",
      "metadata": {
        "id": "l87OvfAShclp",
        "colab_type": "text"
      },
      "source": [
        "## Data Preparation"
      ]
    },
    {
      "cell_type": "markdown",
      "metadata": {
        "id": "fWdQWhdpk_SO",
        "colab_type": "text"
      },
      "source": [
        "Import semua library yang dibutuhkan"
      ]
    },
    {
      "cell_type": "code",
      "metadata": {
        "id": "q7Dwm7T1gSD0",
        "colab_type": "code",
        "colab": {
          "base_uri": "https://localhost:8080/",
          "height": 71
        },
        "outputId": "0877dae7-8d66-4041-cbb5-dc29e36dc671"
      },
      "source": [
        "# Import library\n",
        "import os, zipfile, shutil\n",
        "\n",
        "import numpy as np\n",
        "import matplotlib.pyplot as plt\n",
        "import matplotlib.image as mpimg\n",
        "%matplotlib inline\n",
        "import seaborn as sns\n",
        "\n",
        "import PIL\n",
        "import tensorflow as tf\n",
        "from tensorflow import keras\n",
        "from tensorflow.keras.preprocessing.image import ImageDataGenerator\n",
        "from tensorflow.keras.backend import clear_session\n",
        "from tensorflow.keras.models import Sequential\n",
        "from tensorflow.keras.layers import Conv2D, MaxPooling2D, Dropout, Flatten, Dense\n",
        "from tensorflow.keras.utils import plot_model\n",
        "from tensorflow.keras.callbacks import EarlyStopping\n",
        "from tensorflow.keras.optimizers import RMSprop\n",
        "\n",
        "from google.colab import files"
      ],
      "execution_count": 1,
      "outputs": [
        {
          "output_type": "stream",
          "text": [
            "/usr/local/lib/python3.6/dist-packages/statsmodels/tools/_testing.py:19: FutureWarning: pandas.util.testing is deprecated. Use the functions in the public API at pandas.testing instead.\n",
            "  import pandas.util.testing as tm\n"
          ],
          "name": "stderr"
        }
      ]
    },
    {
      "cell_type": "markdown",
      "metadata": {
        "id": "AMDm9S8xkgZI",
        "colab_type": "text"
      },
      "source": [
        "Install terlebih dahulu kaggle di dalam env google colab"
      ]
    },
    {
      "cell_type": "code",
      "metadata": {
        "id": "qlzPx2w6jr-c",
        "colab_type": "code",
        "colab": {}
      },
      "source": [
        "# Install kaggle\n",
        "!pip install -q kaggle"
      ],
      "execution_count": 2,
      "outputs": []
    },
    {
      "cell_type": "markdown",
      "metadata": {
        "id": "1PuzFgRCkm-E",
        "colab_type": "text"
      },
      "source": [
        "Upload file kaggle.json yang didapat dari menu\n",
        "\n",
        "**My Account** >> **API** >> **Create New API Token**"
      ]
    },
    {
      "cell_type": "code",
      "metadata": {
        "id": "0Y7sd_NnjyqC",
        "colab_type": "code",
        "colab": {
          "resources": {
            "http://localhost:8080/nbextensions/google.colab/files.js": {
              "data": "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",
              "ok": true,
              "headers": [
                [
                  "content-type",
                  "application/javascript"
                ]
              ],
              "status": 200,
              "status_text": ""
            }
          },
          "base_uri": "https://localhost:8080/",
          "height": 72
        },
        "outputId": "46a5b710-95e4-4107-aca4-072f566b5b44"
      },
      "source": [
        "# Upload json file downloaded from your kaggle account\n",
        "uploaded = files.upload()"
      ],
      "execution_count": 3,
      "outputs": [
        {
          "output_type": "display_data",
          "data": {
            "text/html": [
              "\n",
              "     <input type=\"file\" id=\"files-e06d4375-3a97-44bb-927d-9ef657818ec0\" name=\"files[]\" multiple disabled\n",
              "        style=\"border:none\" />\n",
              "     <output id=\"result-e06d4375-3a97-44bb-927d-9ef657818ec0\">\n",
              "      Upload widget is only available when the cell has been executed in the\n",
              "      current browser session. Please rerun this cell to enable.\n",
              "      </output>\n",
              "      <script src=\"/nbextensions/google.colab/files.js\"></script> "
            ],
            "text/plain": [
              "<IPython.core.display.HTML object>"
            ]
          },
          "metadata": {
            "tags": []
          }
        },
        {
          "output_type": "stream",
          "text": [
            "Saving kaggle.json to kaggle.json\n"
          ],
          "name": "stdout"
        }
      ]
    },
    {
      "cell_type": "markdown",
      "metadata": {
        "id": "JlDwgUC1lCXt",
        "colab_type": "text"
      },
      "source": [
        "Setting persiapan untuk menerima datasets dari **Kaggle**\n",
        "\n",
        "1.   Buat forlder baru khusus datasets kaggle, misalkan di `~/.kaggle`\n",
        "2.   Copy paste file `kaggle.json` yang diupload tadi ke dalam folder tsb\n",
        "3.   Ubah permission dari file json tersebut agar bisa dibaca\n",
        "4.   Coba menggunakan perintah `kaggle datasets list` untuk melihat data"
      ]
    },
    {
      "cell_type": "code",
      "metadata": {
        "id": "5M6TBmWYj_1u",
        "colab_type": "code",
        "colab": {}
      },
      "source": [
        "# Step 01\n",
        "!mkdir ~/.kaggle"
      ],
      "execution_count": 4,
      "outputs": []
    },
    {
      "cell_type": "code",
      "metadata": {
        "id": "5GwD6ERXl_pN",
        "colab_type": "code",
        "colab": {}
      },
      "source": [
        "# Step 02\n",
        "!cp kaggle.json ~/.kaggle/"
      ],
      "execution_count": 5,
      "outputs": []
    },
    {
      "cell_type": "code",
      "metadata": {
        "id": "J2Md3Sd_mCnQ",
        "colab_type": "code",
        "colab": {}
      },
      "source": [
        "# Step 03\n",
        "!chmod 600 ~/.kaggle/kaggle.json"
      ],
      "execution_count": 6,
      "outputs": []
    },
    {
      "cell_type": "code",
      "metadata": {
        "id": "lvCyOOvlmG_G",
        "colab_type": "code",
        "colab": {
          "base_uri": "https://localhost:8080/",
          "height": 428
        },
        "outputId": "9c77ad82-95e1-48b2-a3fd-5f605a1f487d"
      },
      "source": [
        "# Step 04\n",
        "!kaggle datasets list"
      ],
      "execution_count": 7,
      "outputs": [
        {
          "output_type": "stream",
          "text": [
            "Warning: Looks like you're using an outdated API Version, please consider updating (server 1.5.6 / client 1.5.4)\n",
            "ref                                                               title                                              size  lastUpdated          downloadCount  \n",
            "----------------------------------------------------------------  ------------------------------------------------  -----  -------------------  -------------  \n",
            "jmmvutu/summer-products-and-sales-in-ecommerce-wish               Sales of summer clothes in E-commerce Wish        376KB  2020-08-23 15:16:46           2289  \n",
            "Cornell-University/arxiv                                          arXiv Dataset                                     877MB  2020-08-14 23:50:57           1990  \n",
            "agirlcoding/all-space-missions-from-1957                          All Space Missions from 1957                      101KB  2020-08-13 16:18:58           1379  \n",
            "landlord/handwriting-recognition                                  Handwriting Recognition                             1GB  2020-08-05 17:20:36            455  \n",
            "andrewmvd/heart-failure-clinical-data                             Heart Failure Prediction                            4KB  2020-06-20 01:03:20           3357  \n",
            "martj42/womens-international-football-results                     Women's International Football Results             52KB  2020-08-14 13:24:15            349  \n",
            "vikasojha98/top-women-chess-players                               Top Women Chess Players                           182KB  2020-08-04 16:17:14            380  \n",
            "andrewmvd/hard-hat-detection                                      Safety Helmet Detection                             1GB  2020-08-11 07:40:12            171  \n",
            "andrewmvd/doom-crossing                                           Doom or Animal Crossing? (Image Classification)   997MB  2020-06-04 19:31:08            115  \n",
            "ashwinik/consumer-complaints-financial-products                   Consumer Complaints - Financial products           59MB  2020-08-02 16:36:33            396  \n",
            "jacobbaruch/basketball-players-stats-per-season-49-leagues        Basketball Players Stats per Season - 49 Leagues    2MB  2020-08-15 20:54:02            478  \n",
            "gpreda/unemployment-in-european-union                             Unemployment in European Union                    874KB  2020-08-12 20:28:46            445  \n",
            "gpreda/covid19-tweets                                             COVID19 Tweets                                     26MB  2020-08-22 11:16:29           3268  \n",
            "ahsen1330/us-police-shootings                                     US Police Shootings                               126KB  2020-07-30 04:23:34           2102  \n",
            "vidyapb/indian-school-education-statistics                        Indian School Education Statistics                 24KB  2020-07-23 17:26:11           1881  \n",
            "christianlillelund/passenger-list-for-the-estonia-ferry-disaster  The Estonia Disaster Passenger List                14KB  2020-07-26 15:40:17            809  \n",
            "futurecorporation/epitope-prediction                              COVID-19/SARS B-cell Epitope Prediction             1MB  2020-07-24 02:53:28            853  \n",
            "google/tinyquickdraw                                              QuickDraw Sketches                                 11GB  2018-04-18 19:38:04           2222  \n",
            "datasnaek/youtube-new                                             Trending YouTube Video Statistics                 201MB  2019-06-03 00:56:47         102278  \n",
            "zynicide/wine-reviews                                             Wine Reviews                                       51MB  2017-11-27 17:08:04         110372  \n"
          ],
          "name": "stdout"
        }
      ]
    },
    {
      "cell_type": "markdown",
      "metadata": {
        "id": "PR42mu89mLz7",
        "colab_type": "text"
      },
      "source": [
        "Selanjutnya adalah mendownload datasets yang diinginkan yang nantinya datasets tersebut akan masuk ke dalam folder `/content`\n",
        "\n",
        "Datasets yang didownload masih dalam bentuk `zip` yang pada tahap selanjutnya akan dilakukan ekstraksi."
      ]
    },
    {
      "cell_type": "code",
      "metadata": {
        "id": "85QNz11niGGc",
        "colab_type": "code",
        "colab": {
          "base_uri": "https://localhost:8080/",
          "height": 68
        },
        "outputId": "dc93a689-d49f-4374-ca82-9fb6c34f1354"
      },
      "source": [
        "# Download datasets\n",
        "!kaggle datasets download -d ashishjangra27/face-mask-12k-images-dataset"
      ],
      "execution_count": 8,
      "outputs": [
        {
          "output_type": "stream",
          "text": [
            "Downloading face-mask-12k-images-dataset.zip to /content\n",
            " 97% 320M/330M [00:02<00:00, 108MB/s]\n",
            "100% 330M/330M [00:02<00:00, 116MB/s]\n"
          ],
          "name": "stdout"
        }
      ]
    },
    {
      "cell_type": "markdown",
      "metadata": {
        "id": "pXVuY0g-od1T",
        "colab_type": "text"
      },
      "source": [
        "Ekstraksi datasets yang sudah didownload tadi dan lakukan set `BASE_DIR` untuk pemrosesan selanjutnya"
      ]
    },
    {
      "cell_type": "code",
      "metadata": {
        "id": "BY-56cKanW9S",
        "colab_type": "code",
        "colab": {}
      },
      "source": [
        "# Extract datasets\n",
        "local_zip = '/content/face-mask-12k-images-dataset.zip'\n",
        "zip_ref = zipfile.ZipFile(local_zip, 'r')\n",
        "zip_ref.extractall('/content')\n",
        "zip_ref.close()"
      ],
      "execution_count": 9,
      "outputs": []
    },
    {
      "cell_type": "code",
      "metadata": {
        "id": "bCmAk4oaoAqG",
        "colab_type": "code",
        "colab": {}
      },
      "source": [
        "# Set base directory\n",
        "BASE_DIR = '/content/Face Mask Dataset/'"
      ],
      "execution_count": 10,
      "outputs": []
    },
    {
      "cell_type": "markdown",
      "metadata": {
        "id": "TW1tROX9pmF0",
        "colab_type": "text"
      },
      "source": [
        "Sebelum dilakukan pemrosesan ke tahap berikutnya, ada baiknya perlu diketahui terlebih dahulu mengenai jumlah data datasets."
      ]
    },
    {
      "cell_type": "code",
      "metadata": {
        "id": "Cj16hRMdrykW",
        "colab_type": "code",
        "colab": {}
      },
      "source": [
        "# Create function to make the directory like tree-structure, without showing the files\n",
        "def list_files(startpath):\n",
        "  num_files = 0\n",
        "  for root, dirs, files in os.walk(startpath):\n",
        "    level = root.replace(startpath, '').count(os.sep)\n",
        "    indent = ' ' * 2 * (level)\n",
        "    num_files += len(files)\n",
        "    print('{}{}/ {}'.format(indent, os.path.basename(root), (str(len(files)) + ' images' if len(files) > 0 else '')))\n",
        "  \n",
        "  return num_files"
      ],
      "execution_count": 11,
      "outputs": []
    },
    {
      "cell_type": "code",
      "metadata": {
        "id": "0BkND8WBozII",
        "colab_type": "code",
        "colab": {
          "base_uri": "https://localhost:8080/",
          "height": 204
        },
        "outputId": "4eb05030-d052-446a-910b-c1100cd9a837"
      },
      "source": [
        "# Check inside BASE_DIR\n",
        "list_files(BASE_DIR)"
      ],
      "execution_count": 12,
      "outputs": [
        {
          "output_type": "stream",
          "text": [
            "/ \n",
            "Validation/ \n",
            "  WithoutMask/ 400 images\n",
            "  WithMask/ 400 images\n",
            "Train/ \n",
            "  WithoutMask/ 5000 images\n",
            "  WithMask/ 5000 images\n",
            "Test/ \n",
            "  WithoutMask/ 509 images\n",
            "  WithMask/ 483 images\n"
          ],
          "name": "stdout"
        },
        {
          "output_type": "execute_result",
          "data": {
            "text/plain": [
              "11792"
            ]
          },
          "metadata": {
            "tags": []
          },
          "execution_count": 12
        }
      ]
    },
    {
      "cell_type": "markdown",
      "metadata": {
        "id": "Y7EPelWFvPi3",
        "colab_type": "text"
      },
      "source": [
        "Total datasets ada lebih dari 10,000 datasets terbagi ke dalam Train, Test, dan validation, dimana masing-masing data terbagi ke dalam image dengan masker (*WithMask*) dan tanpa masker (*WithoutMask*)."
      ]
    },
    {
      "cell_type": "markdown",
      "metadata": {
        "id": "oYM2MmrWXi6f",
        "colab_type": "text"
      },
      "source": [
        "Mengingat dari datasets yang ada, diminta untuk membagi data training dan data validation dengan perbandingan 80% dan 20%, sedangkan data yang sudah terbagi tidak mengikuti perbandingan tersebut, maka kita perlu membaginya sesuai kriteria yang diminta."
      ]
    },
    {
      "cell_type": "code",
      "metadata": {
        "id": "kRhm8fdakfXY",
        "colab_type": "code",
        "colab": {}
      },
      "source": [
        "# Create directories\n",
        "def make_dirs(dirs):\n",
        "  for dir in dirs:\n",
        "    os.mkdir(dir)\n",
        "\n",
        "# Delete directory All\n",
        "def del_dirs():\n",
        "  !rm -r '/content/Face Mask Dataset/All'\n",
        "\n",
        "# Copy files to certain dirs\n",
        "def copy_files(src, dst, symlinks=False, ignore=None):\n",
        "  for item in os.listdir(src):\n",
        "    s = os.path.join(src, item)\n",
        "    d = os.path.join(dst, item)\n",
        "    if os.path.isdir(s):\n",
        "      shutil.copy_files(s, d, symlinks, ignore)\n",
        "    else:\n",
        "      shutil.copy2(s, d)"
      ],
      "execution_count": 13,
      "outputs": []
    },
    {
      "cell_type": "code",
      "metadata": {
        "id": "QGKSrZHsmUta",
        "colab_type": "code",
        "colab": {
          "base_uri": "https://localhost:8080/",
          "height": 34
        },
        "outputId": "3aca2626-ca48-4763-e8fc-fcbe0aba465a"
      },
      "source": [
        "del_dirs()"
      ],
      "execution_count": 14,
      "outputs": [
        {
          "output_type": "stream",
          "text": [
            "rm: cannot remove '/content/Face Mask Dataset/All': No such file or directory\n"
          ],
          "name": "stdout"
        }
      ]
    },
    {
      "cell_type": "code",
      "metadata": {
        "id": "ihcHElUvgHiS",
        "colab_type": "code",
        "colab": {}
      },
      "source": [
        "# Create All directory\n",
        "make_dirs(['/content/Face Mask Dataset/All'])"
      ],
      "execution_count": 15,
      "outputs": []
    },
    {
      "cell_type": "code",
      "metadata": {
        "id": "sWbxp3EdlxcL",
        "colab_type": "code",
        "colab": {}
      },
      "source": [
        "# Create subdirectories in All directory\n",
        "make_dirs(['/content/Face Mask Dataset/All/WithoutMask', '/content/Face Mask Dataset/All/WithMask'])"
      ],
      "execution_count": 16,
      "outputs": []
    },
    {
      "cell_type": "markdown",
      "metadata": {
        "id": "tCfBbWErIXr-",
        "colab_type": "text"
      },
      "source": [
        "Mengingat jumlah datasets Train dan Validation masih lebih dari 10,000 sampel (masih sesuai dengan kriteria submission), maka dari itu, datasets yang ada pada folder Test, nantinya akan digunakan untuk prediksi, sehingga tidak dilakukan copy file ke dalam folder `All`."
      ]
    },
    {
      "cell_type": "code",
      "metadata": {
        "id": "Itn04SDlm0Wu",
        "colab_type": "code",
        "colab": {}
      },
      "source": [
        "# Copy WithMask directory\n",
        "copy_files('/content/Face Mask Dataset/Train/WithMask', '/content/Face Mask Dataset/All/WithMask')\n",
        "# copy_files('/content/Face Mask Dataset/Test/WithMask', '/content/Face Mask Dataset/All/WithMask')\n",
        "copy_files('/content/Face Mask Dataset/Validation/WithMask', '/content/Face Mask Dataset/All/WithMask')"
      ],
      "execution_count": 17,
      "outputs": []
    },
    {
      "cell_type": "code",
      "metadata": {
        "id": "IcTXtvpckHXg",
        "colab_type": "code",
        "colab": {}
      },
      "source": [
        "# Copy WithoutMask directory\n",
        "copy_files('/content/Face Mask Dataset/Train/WithoutMask', '/content/Face Mask Dataset/All/WithoutMask')\n",
        "# copy_files('/content/Face Mask Dataset/Test/WithoutMask', '/content/Face Mask Dataset/All/WithoutMask')\n",
        "copy_files('/content/Face Mask Dataset/Validation/WithoutMask', '/content/Face Mask Dataset/All/WithoutMask')"
      ],
      "execution_count": 18,
      "outputs": []
    },
    {
      "cell_type": "code",
      "metadata": {
        "id": "z3phT1Ajn1Wj",
        "colab_type": "code",
        "colab": {
          "base_uri": "https://localhost:8080/",
          "height": 85
        },
        "outputId": "5f4c5ec4-20a2-4b6a-a0cb-b82a88948f77"
      },
      "source": [
        "# Check length of data in All folders, is it same or not\n",
        "list_files(BASE_DIR + 'All')"
      ],
      "execution_count": 19,
      "outputs": [
        {
          "output_type": "stream",
          "text": [
            "All/ \n",
            "  WithoutMask/ 5400 images\n",
            "  WithMask/ 5400 images\n"
          ],
          "name": "stdout"
        },
        {
          "output_type": "execute_result",
          "data": {
            "text/plain": [
              "10800"
            ]
          },
          "metadata": {
            "tags": []
          },
          "execution_count": 19
        }
      ]
    },
    {
      "cell_type": "code",
      "metadata": {
        "id": "6MUGOZNjX3ze",
        "colab_type": "code",
        "colab": {}
      },
      "source": [
        "# Create FULL_DIRS directory as in /content/Face Mask Dataset/All\n",
        "FULL_DIRS = BASE_DIR + 'All'"
      ],
      "execution_count": 20,
      "outputs": []
    },
    {
      "cell_type": "markdown",
      "metadata": {
        "id": "WQgTYbjFooUy",
        "colab_type": "text"
      },
      "source": [
        "Selanjutnya, untuk memastikan bahwa ukuran dari image datasets tersebut beragam, maka dengan menggunakan PIL akan didapatkan hasilnya."
      ]
    },
    {
      "cell_type": "code",
      "metadata": {
        "id": "nN07DuWqoxb8",
        "colab_type": "code",
        "colab": {}
      },
      "source": [
        "def read_files(startpath):\n",
        "  image_files = []\n",
        "  for dirname, dirnames, filenames in os.walk(startpath):\n",
        "    # print path to all filenames.\n",
        "    for filename in filenames:\n",
        "      image_files.append(os.path.join(dirname, filename))\n",
        "  \n",
        "  return image_files"
      ],
      "execution_count": 21,
      "outputs": []
    },
    {
      "cell_type": "code",
      "metadata": {
        "id": "b07xNJbeo4z0",
        "colab_type": "code",
        "colab": {
          "base_uri": "https://localhost:8080/",
          "height": 85
        },
        "outputId": "03310d79-54f3-43ae-9ac4-4e7352fc86b2"
      },
      "source": [
        "full_dirs = read_files(FULL_DIRS)\n",
        "image_sizes = []\n",
        "for file in full_dirs:\n",
        "  image = PIL.Image.open(file)\n",
        "  width, height = image.size\n",
        "  image_sizes.append(f'{width}x{height}')\n",
        "\n",
        "# Find a unique\n",
        "unique_sizes = set(image_sizes)\n",
        "\n",
        "print(f'Size all images: {len(image_sizes)}')\n",
        "print(f'Size unique images: {len(unique_sizes)}')\n",
        "print(f'First 10 unique images: \\n{list(unique_sizes)[:10]}')"
      ],
      "execution_count": 22,
      "outputs": [
        {
          "output_type": "stream",
          "text": [
            "Size all images: 10800\n",
            "Size unique images: 140\n",
            "First 10 unique images: \n",
            "['121x121', '84x84', '65x65', '50x50', '156x156', '64x64', '82x82', '119x119', '126x126', '33x33']\n"
          ],
          "name": "stdout"
        }
      ]
    },
    {
      "cell_type": "markdown",
      "metadata": {
        "id": "zRcCsx39tLFC",
        "colab_type": "text"
      },
      "source": [
        "Didapat bahwa dari total 10,800 gambar, ada sebanyak 140 jenis ukuran (ukuran beragam). Dan di tampilkan 10 contoh unique image sizes."
      ]
    },
    {
      "cell_type": "markdown",
      "metadata": {
        "id": "aipMcdnchemS",
        "colab_type": "text"
      },
      "source": [
        "## Data Preprocessing dan Data Spliting"
      ]
    },
    {
      "cell_type": "markdown",
      "metadata": {
        "id": "dbuD_sBO5mU6",
        "colab_type": "text"
      },
      "source": [
        "### Augmentasi Gambar"
      ]
    },
    {
      "cell_type": "code",
      "metadata": {
        "id": "g7ZYjEAehxYC",
        "colab_type": "code",
        "colab": {}
      },
      "source": [
        "datagen = ImageDataGenerator(\n",
        "  rescale=1./255,\n",
        "  validation_split=0.2, # 20% data validation\n",
        "  zoom_range=0.2,\n",
        "  shear_range=0.2,\n",
        "  rotation_range=0.2\n",
        ")"
      ],
      "execution_count": 23,
      "outputs": []
    },
    {
      "cell_type": "markdown",
      "metadata": {
        "id": "dzU3owTg5rxg",
        "colab_type": "text"
      },
      "source": [
        "### Data Image Generator"
      ]
    },
    {
      "cell_type": "code",
      "metadata": {
        "id": "LlpFCMWbd9mI",
        "colab_type": "code",
        "colab": {}
      },
      "source": [
        "HEIGHT = 120\n",
        "WIDTH = 120"
      ],
      "execution_count": 24,
      "outputs": []
    },
    {
      "cell_type": "code",
      "metadata": {
        "id": "OGbsRh3R5tso",
        "colab_type": "code",
        "colab": {
          "base_uri": "https://localhost:8080/",
          "height": 51
        },
        "outputId": "1e698ccf-1ee6-421b-9ce2-e1f1c29cd3d1"
      },
      "source": [
        "training_generator = datagen.flow_from_directory(\n",
        "  FULL_DIRS,\n",
        "  subset='training',\n",
        "  target_size=(HEIGHT,WIDTH),\n",
        "  seed=42,\n",
        "  batch_size=64,\n",
        "  interpolation='nearest',\n",
        "  class_mode='binary',\n",
        "  classes=['WithoutMask','WithMask']\n",
        ")\n",
        "\n",
        "validation_generator = datagen.flow_from_directory(\n",
        "  FULL_DIRS,\n",
        "  subset='validation',\n",
        "  target_size=(HEIGHT,WIDTH),\n",
        "  seed=42,\n",
        "  batch_size=64,\n",
        "  interpolation='nearest',\n",
        "  class_mode='binary',\n",
        "  classes=['WithoutMask','WithMask']\n",
        ")"
      ],
      "execution_count": 25,
      "outputs": [
        {
          "output_type": "stream",
          "text": [
            "Found 8640 images belonging to 2 classes.\n",
            "Found 2160 images belonging to 2 classes.\n"
          ],
          "name": "stdout"
        }
      ]
    },
    {
      "cell_type": "markdown",
      "metadata": {
        "id": "MOzs8CDn64do",
        "colab_type": "text"
      },
      "source": [
        "Jumlah data training dan validasi berturut-turut adalah 8,640 dan 2,160."
      ]
    },
    {
      "cell_type": "code",
      "metadata": {
        "id": "ql7uDCwc5hnn",
        "colab_type": "code",
        "colab": {
          "base_uri": "https://localhost:8080/",
          "height": 34
        },
        "outputId": "f95912b0-71ea-4760-b94b-5cdcbac9d649"
      },
      "source": [
        "NUM_TRAINING_SAMPLES = training_generator.samples\n",
        "NUM_VALIDATION_SAMPLES = validation_generator.samples\n",
        "BATCH_SIZE = training_generator.batch_size\n",
        "training_generator.class_indices"
      ],
      "execution_count": 26,
      "outputs": [
        {
          "output_type": "execute_result",
          "data": {
            "text/plain": [
              "{'WithMask': 1, 'WithoutMask': 0}"
            ]
          },
          "metadata": {
            "tags": []
          },
          "execution_count": 26
        }
      ]
    },
    {
      "cell_type": "markdown",
      "metadata": {
        "id": "_MawOHuRhkpq",
        "colab_type": "text"
      },
      "source": [
        "## Modeling and Training"
      ]
    },
    {
      "cell_type": "code",
      "metadata": {
        "id": "Hc97Dtewhy1i",
        "colab_type": "code",
        "colab": {
          "base_uri": "https://localhost:8080/",
          "height": 1000
        },
        "outputId": "973741a8-6b58-4131-d838-a7da21794bd4"
      },
      "source": [
        "clear_session()\n",
        "np.random.seed(42)\n",
        "tf.random.set_seed(42)\n",
        "    \n",
        "model = Sequential([\n",
        "    #1 convo2d & maxpool2d\n",
        "    Conv2D(64, (3,3), activation='relu', input_shape=(WIDTH, HEIGHT, 3)),\n",
        "    MaxPooling2D(2, 2),\n",
        "    #2 convo2d & maxpool2d\n",
        "    Conv2D(64, (3,3), activation='relu'),\n",
        "    MaxPooling2D(2,2),\n",
        "    Dropout(0.6),\n",
        "    #3 convo & maxpool2d\n",
        "    Conv2D(128, (3,3), activation='relu'),\n",
        "    MaxPooling2D(2,2),\n",
        "    #4 convo & maxpool2d\n",
        "    Conv2D(256, (3,3), activation='relu'),\n",
        "    MaxPooling2D(2,2),\n",
        "    Dropout(0.4),\n",
        "    # Flatten\n",
        "    Flatten(),\n",
        "    # Hidden layers\n",
        "    Dense(512, activation='relu'),\n",
        "    Dropout(0.2),\n",
        "    # Output, sigmoid output 0 or 1\n",
        "    Dense(1, activation='sigmoid')\n",
        "])\n",
        "\n",
        "# Cek Summary\n",
        "model.summary()\n",
        "\n",
        "# Melihat plot model\n",
        "plot_model(\n",
        "    model,\n",
        "    show_shapes=True,\n",
        "    show_layer_names=True,\n",
        ")\n",
        "\n",
        "# Callback early stopping, 3x val_loss tdk ada perubahan, stop!\n",
        "early_stopping_callback = EarlyStopping(\n",
        "    patience=3,\n",
        "    monitor='val_loss'\n",
        ")\n",
        "\n",
        "steps_per_epoch = NUM_TRAINING_SAMPLES // BATCH_SIZE\n",
        "validation_steps = NUM_VALIDATION_SAMPLES // BATCH_SIZE\n",
        "print('steps_per_epoch:', steps_per_epoch)\n",
        "print('validation_steps:', validation_steps)\n",
        "\n",
        "# Compiling\n",
        "LR = 1e-4\n",
        "model.compile(loss='binary_crossentropy',\n",
        "              optimizer=RMSprop(learning_rate=LR),\n",
        "              metrics=['accuracy'])\n",
        "\n",
        "# Fitting\n",
        "result = model.fit(\n",
        "    training_generator,\n",
        "    validation_data=validation_generator,\n",
        "    epochs=25,\n",
        "    steps_per_epoch=steps_per_epoch,\n",
        "    validation_steps=validation_steps,\n",
        "    callbacks=[\n",
        "        early_stopping_callback\n",
        "    ],\n",
        "    verbose=1\n",
        ")"
      ],
      "execution_count": 27,
      "outputs": [
        {
          "output_type": "stream",
          "text": [
            "Model: \"sequential\"\n",
            "_________________________________________________________________\n",
            "Layer (type)                 Output Shape              Param #   \n",
            "=================================================================\n",
            "conv2d (Conv2D)              (None, 118, 118, 64)      1792      \n",
            "_________________________________________________________________\n",
            "max_pooling2d (MaxPooling2D) (None, 59, 59, 64)        0         \n",
            "_________________________________________________________________\n",
            "conv2d_1 (Conv2D)            (None, 57, 57, 64)        36928     \n",
            "_________________________________________________________________\n",
            "max_pooling2d_1 (MaxPooling2 (None, 28, 28, 64)        0         \n",
            "_________________________________________________________________\n",
            "dropout (Dropout)            (None, 28, 28, 64)        0         \n",
            "_________________________________________________________________\n",
            "conv2d_2 (Conv2D)            (None, 26, 26, 128)       73856     \n",
            "_________________________________________________________________\n",
            "max_pooling2d_2 (MaxPooling2 (None, 13, 13, 128)       0         \n",
            "_________________________________________________________________\n",
            "conv2d_3 (Conv2D)            (None, 11, 11, 256)       295168    \n",
            "_________________________________________________________________\n",
            "max_pooling2d_3 (MaxPooling2 (None, 5, 5, 256)         0         \n",
            "_________________________________________________________________\n",
            "dropout_1 (Dropout)          (None, 5, 5, 256)         0         \n",
            "_________________________________________________________________\n",
            "flatten (Flatten)            (None, 6400)              0         \n",
            "_________________________________________________________________\n",
            "dense (Dense)                (None, 512)               3277312   \n",
            "_________________________________________________________________\n",
            "dropout_2 (Dropout)          (None, 512)               0         \n",
            "_________________________________________________________________\n",
            "dense_1 (Dense)              (None, 1)                 513       \n",
            "=================================================================\n",
            "Total params: 3,685,569\n",
            "Trainable params: 3,685,569\n",
            "Non-trainable params: 0\n",
            "_________________________________________________________________\n",
            "steps_per_epoch: 135\n",
            "validation_steps: 33\n",
            "Epoch 1/25\n",
            "135/135 [==============================] - 55s 406ms/step - loss: 0.3458 - accuracy: 0.8395 - val_loss: 0.2100 - val_accuracy: 0.9437\n",
            "Epoch 2/25\n",
            "135/135 [==============================] - 55s 404ms/step - loss: 0.1343 - accuracy: 0.9509 - val_loss: 0.1396 - val_accuracy: 0.9645\n",
            "Epoch 3/25\n",
            "135/135 [==============================] - 55s 406ms/step - loss: 0.0949 - accuracy: 0.9667 - val_loss: 0.1233 - val_accuracy: 0.9588\n",
            "Epoch 4/25\n",
            "135/135 [==============================] - 55s 407ms/step - loss: 0.0742 - accuracy: 0.9751 - val_loss: 0.1084 - val_accuracy: 0.9640\n",
            "Epoch 5/25\n",
            "135/135 [==============================] - 55s 410ms/step - loss: 0.0673 - accuracy: 0.9752 - val_loss: 0.0969 - val_accuracy: 0.9697\n",
            "Epoch 6/25\n",
            "135/135 [==============================] - 55s 411ms/step - loss: 0.0531 - accuracy: 0.9811 - val_loss: 0.0979 - val_accuracy: 0.9711\n",
            "Epoch 7/25\n",
            "135/135 [==============================] - 56s 415ms/step - loss: 0.0484 - accuracy: 0.9836 - val_loss: 0.0647 - val_accuracy: 0.9801\n",
            "Epoch 8/25\n",
            "135/135 [==============================] - 58s 428ms/step - loss: 0.0429 - accuracy: 0.9853 - val_loss: 0.0568 - val_accuracy: 0.9787\n",
            "Epoch 9/25\n",
            "135/135 [==============================] - 62s 459ms/step - loss: 0.0399 - accuracy: 0.9858 - val_loss: 0.0467 - val_accuracy: 0.9839\n",
            "Epoch 10/25\n",
            "135/135 [==============================] - 58s 429ms/step - loss: 0.0336 - accuracy: 0.9876 - val_loss: 0.0541 - val_accuracy: 0.9820\n",
            "Epoch 11/25\n",
            "135/135 [==============================] - 56s 418ms/step - loss: 0.0316 - accuracy: 0.9895 - val_loss: 0.0406 - val_accuracy: 0.9863\n",
            "Epoch 12/25\n",
            "135/135 [==============================] - 56s 416ms/step - loss: 0.0296 - accuracy: 0.9905 - val_loss: 0.0576 - val_accuracy: 0.9796\n",
            "Epoch 13/25\n",
            "135/135 [==============================] - 56s 417ms/step - loss: 0.0270 - accuracy: 0.9896 - val_loss: 0.0518 - val_accuracy: 0.9787\n",
            "Epoch 14/25\n",
            "135/135 [==============================] - 56s 417ms/step - loss: 0.0239 - accuracy: 0.9925 - val_loss: 0.0392 - val_accuracy: 0.9844\n",
            "Epoch 15/25\n",
            "135/135 [==============================] - 56s 417ms/step - loss: 0.0237 - accuracy: 0.9921 - val_loss: 0.0334 - val_accuracy: 0.9886\n",
            "Epoch 16/25\n",
            "135/135 [==============================] - 57s 424ms/step - loss: 0.0229 - accuracy: 0.9924 - val_loss: 0.0396 - val_accuracy: 0.9839\n",
            "Epoch 17/25\n",
            "135/135 [==============================] - 57s 420ms/step - loss: 0.0207 - accuracy: 0.9920 - val_loss: 0.0390 - val_accuracy: 0.9844\n",
            "Epoch 18/25\n",
            "135/135 [==============================] - 57s 420ms/step - loss: 0.0194 - accuracy: 0.9935 - val_loss: 0.0402 - val_accuracy: 0.9844\n"
          ],
          "name": "stdout"
        }
      ]
    },
    {
      "cell_type": "markdown",
      "metadata": {
        "id": "NSIk1eR3hn44",
        "colab_type": "text"
      },
      "source": [
        "## Predicting and Evaluating"
      ]
    },
    {
      "cell_type": "markdown",
      "metadata": {
        "id": "bHIHetyg5zop",
        "colab_type": "text"
      },
      "source": [
        "### Plot loss dan accuracy"
      ]
    },
    {
      "cell_type": "code",
      "metadata": {
        "id": "AUzd-oVahzQd",
        "colab_type": "code",
        "colab": {
          "base_uri": "https://localhost:8080/",
          "height": 350
        },
        "outputId": "09103eff-0724-4509-f02d-c7e628d38259"
      },
      "source": [
        "# Mengambil history dari loss dan accuracy\n",
        "loss = result.history['loss']\n",
        "val_loss = result.history['val_loss']\n",
        "acc = result.history['accuracy']\n",
        "val_acc = result.history['val_accuracy']\n",
        "\n",
        "# Menampilkan graph loss dan accuracy\n",
        "plt.figure(figsize=(15, 5))\n",
        "\n",
        "plt.subplot(1, 2, 1)\n",
        "plt.title('Loss')\n",
        "plt.xlabel('Epoch')\n",
        "plt.ylabel('Loss')\n",
        "plt.plot(loss, label='Training set')\n",
        "plt.plot(val_loss, label='Validation set', linestyle='--')\n",
        "plt.legend()\n",
        "plt.grid(linestyle='--', linewidth=1, alpha=0.5)\n",
        "\n",
        "plt.subplot(1, 2, 2)\n",
        "plt.title('Accuracy')\n",
        "plt.xlabel('Epoch')\n",
        "plt.ylabel('Accuracy')\n",
        "plt.plot(acc, label='Training set')\n",
        "plt.plot(val_acc, label='Validation set', linestyle='--')\n",
        "plt.legend()\n",
        "plt.grid(linestyle='--', linewidth=1, alpha=0.5)\n",
        "\n",
        "plt.show()"
      ],
      "execution_count": 28,
      "outputs": [
        {
          "output_type": "display_data",
          "data": {
            "image/png": "[encoded data removed]",
            "text/plain": [
              "<Figure size 1080x360 with 2 Axes>"
            ]
          },
          "metadata": {
            "tags": [],
            "needs_background": "light"
          }
        }
      ]
    },
    {
      "cell_type": "markdown",
      "metadata": {
        "id": "W6CBhkBE5_g8",
        "colab_type": "text"
      },
      "source": [
        "### Prediksi"
      ]
    },
    {
      "cell_type": "markdown",
      "metadata": {
        "id": "tTqeMt8qBQ7d",
        "colab_type": "text"
      },
      "source": [
        "Untuk prediksi face mask dataset, diambil dari folder `Face Mask Dataset/Test` mengingat dataset tersebut tidak kita gunakan saat training (jumlah dataset training sudah lebih dari 10,000 images)."
      ]
    },
    {
      "cell_type": "code",
      "metadata": {
        "id": "4SQN6YZFazm6",
        "colab_type": "code",
        "colab": {}
      },
      "source": [
        "TEST_WITHMASKS = '/content/Face Mask Dataset/Test/WithMask'\n",
        "TEST_WITHOUTMASKS = '/content/Face Mask Dataset/Test/WithoutMask'"
      ],
      "execution_count": 29,
      "outputs": []
    },
    {
      "cell_type": "code",
      "metadata": {
        "id": "zMra8rIBdGqf",
        "colab_type": "code",
        "colab": {
          "base_uri": "https://localhost:8080/",
          "height": 34
        },
        "outputId": "9e9f0308-cb7c-440e-d8da-e79baf91ac8a"
      },
      "source": [
        "n_test_withmask = len(read_files(TEST_WITHMASKS))\n",
        "n_test_withoutmask = len(read_files(TEST_WITHOUTMASKS))\n",
        "n_test_withmask, n_test_withoutmask"
      ],
      "execution_count": 30,
      "outputs": [
        {
          "output_type": "execute_result",
          "data": {
            "text/plain": [
              "(483, 509)"
            ]
          },
          "metadata": {
            "tags": []
          },
          "execution_count": 30
        }
      ]
    },
    {
      "cell_type": "code",
      "metadata": {
        "id": "FMvNpN_FyGwB",
        "colab_type": "code",
        "colab": {}
      },
      "source": [
        "def plot_predicts(data):\n",
        "  n_rows = np.ceil(len(data) / 5) # menyusun 5 gambar per baris\n",
        "  fig = plt.figure(figsize=(20, 5 * n_rows))\n",
        "  n_columns = 5\n",
        "\n",
        "  for i in range(0, len(data)):\n",
        "    fig.add_subplot(n_rows, n_columns, i + 1)\n",
        "    plt.title(data[i]['title'])\n",
        "    plt.xlabel(data[i]['file'])\n",
        "    plt.imshow(data[i]['img'])\n",
        "  \n",
        "  plt.show()\n",
        "\n",
        "def predict(data, start=0, end=10, batch_size=10):\n",
        "  predicts = list()\n",
        "  \n",
        "  for d in data[start:end]: # Only some images\n",
        "    predict = dict()\n",
        "\n",
        "    img = keras.preprocessing.image.load_img(d, target_size=(HEIGHT,WIDTH))\n",
        "    x = keras.preprocessing.image.img_to_array(img)\n",
        "    x = np.expand_dims(x, axis=0)\n",
        "\n",
        "    images = np.vstack([x])\n",
        "    classes = model.predict(images, batch_size=batch_size)\n",
        "    \n",
        "    predict['img'] = img\n",
        "    predict['file'] = d\n",
        "\n",
        "    if classes[0][0] == 1:\n",
        "      predict['title'] = 'WithMask'\n",
        "    else:\n",
        "      predict['title'] = 'WithoutMask'\n",
        "    predicts.append(predict)\n",
        "      \n",
        "  return predicts\n",
        "\n",
        "def n_prediction(predicts, type_pred=None):\n",
        "  withmask = 0\n",
        "  idx = 0\n",
        "  while(idx < n_test_withmask):\n",
        "    if predicts[idx]['title'] == type_pred:\n",
        "      withmask += 1\n",
        "    idx += 1\n",
        "\n",
        "  return withmask, (len(predicts) - withmask)"
      ],
      "execution_count": 31,
      "outputs": []
    },
    {
      "cell_type": "code",
      "metadata": {
        "id": "AyBklTrDyKfP",
        "colab_type": "code",
        "colab": {
          "base_uri": "https://localhost:8080/",
          "height": 34
        },
        "outputId": "5bd545a5-f736-455b-cef4-0fb34116fdbf"
      },
      "source": [
        "withmask_true, withmask_false = n_prediction(predict(read_files(TEST_WITHMASKS), 0, n_test_withmask), 'WithMask')\n",
        "withmask_true, withmask_false, withmask_true/n_test_withmask * 100"
      ],
      "execution_count": 32,
      "outputs": [
        {
          "output_type": "execute_result",
          "data": {
            "text/plain": [
              "(475, 8, 98.34368530020704)"
            ]
          },
          "metadata": {
            "tags": []
          },
          "execution_count": 32
        }
      ]
    },
    {
      "cell_type": "code",
      "metadata": {
        "id": "5DH3oDOb7asY",
        "colab_type": "code",
        "colab": {
          "base_uri": "https://localhost:8080/",
          "height": 34
        },
        "outputId": "5d6ba503-5646-4419-f988-2c1f278c5b2c"
      },
      "source": [
        "withoutmask_true, withoutmask_false = n_prediction(predict(read_files(TEST_WITHOUTMASKS), 0, n_test_withoutmask), 'WithoutMask')\n",
        "withoutmask_true, withoutmask_false, withoutmask_true/n_test_withoutmask * 100"
      ],
      "execution_count": 33,
      "outputs": [
        {
          "output_type": "execute_result",
          "data": {
            "text/plain": [
              "(479, 30, 94.10609037328095)"
            ]
          },
          "metadata": {
            "tags": []
          },
          "execution_count": 33
        }
      ]
    },
    {
      "cell_type": "markdown",
      "metadata": {
        "id": "1-lYhx_bLlbn",
        "colab_type": "text"
      },
      "source": [
        "Hasil prediksi images baik yang menggunakan dan tidak menggunakan masker dapat mendeteksi hasil sebenarnya di atas 94%."
      ]
    },
    {
      "cell_type": "markdown",
      "metadata": {
        "id": "xRh8i1AG2inI",
        "colab_type": "text"
      },
      "source": [
        "## TF-Lite"
      ]
    },
    {
      "cell_type": "code",
      "metadata": {
        "id": "GFvWhb_pfbAC",
        "colab_type": "code",
        "colab": {
          "base_uri": "https://localhost:8080/",
          "height": 156
        },
        "outputId": "775e1f5d-4458-4d67-a181-dc588451d212"
      },
      "source": [
        "# Convert model\n",
        "converter = tf.lite.TFLiteConverter.from_keras_model(model)\n",
        "tflite_model = converter.convert()"
      ],
      "execution_count": 34,
      "outputs": [
        {
          "output_type": "stream",
          "text": [
            "WARNING:tensorflow:From /usr/local/lib/python3.6/dist-packages/tensorflow/python/training/tracking/tracking.py:111: Model.state_updates (from tensorflow.python.keras.engine.training) is deprecated and will be removed in a future version.\n",
            "Instructions for updating:\n",
            "This property should not be used in TensorFlow 2.0, as updates are applied automatically.\n",
            "WARNING:tensorflow:From /usr/local/lib/python3.6/dist-packages/tensorflow/python/training/tracking/tracking.py:111: Layer.updates (from tensorflow.python.keras.engine.base_layer) is deprecated and will be removed in a future version.\n",
            "Instructions for updating:\n",
            "This property should not be used in TensorFlow 2.0, as updates are applied automatically.\n",
            "INFO:tensorflow:Assets written to: /tmp/tmp1hxnb80i/assets\n"
          ],
          "name": "stdout"
        }
      ]
    },
    {
      "cell_type": "code",
      "metadata": {
        "id": "5VtmWu9-fhs9",
        "colab_type": "code",
        "colab": {}
      },
      "source": [
        "# Save model\n",
        "with tf.io.gfile.GFile('model__v1.tflite', 'wb') as f:\n",
        "  f.write(tflite_model)"
      ],
      "execution_count": 35,
      "outputs": []
    }
  ]
}