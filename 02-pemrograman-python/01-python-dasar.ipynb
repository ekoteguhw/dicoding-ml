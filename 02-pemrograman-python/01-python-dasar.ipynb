{
 "cells": [
  {
   "cell_type": "code",
   "execution_count": 1,
   "metadata": {},
   "outputs": [
    {
     "name": "stdout",
     "output_type": "stream",
     "text": [
      "3.7.7\n",
      "3.7.7 (default, Mar 26 2020, 10:32:53) \n",
      "[Clang 4.0.1 (tags/RELEASE_401/final)]\n"
     ]
    }
   ],
   "source": [
    "# Check version runing on Jupyter notebook\n",
    "from platform import python_version\n",
    "print(python_version())\n",
    "\n",
    "# Check version inside your Python program\n",
    "import sys\n",
    "print(sys.version)\n",
    "\n",
    "# Check version in command line or shell\n",
    "# python --version"
   ]
  },
  {
   "cell_type": "markdown",
   "metadata": {},
   "source": [
    "## Menampilkan suatu pesan\n",
    "\n",
    "Menampilkan suatu pesan dengan `print`"
   ]
  },
  {
   "cell_type": "code",
   "execution_count": 2,
   "metadata": {},
   "outputs": [
    {
     "name": "stdout",
     "output_type": "stream",
     "text": [
      "Halo, Selamat datang\n",
      "Ini adalah belajar pemrograman python dasar\n",
      "3.0\n"
     ]
    }
   ],
   "source": [
    "print(\"Halo, Selamat datang\")\n",
    "print(\"Ini adalah\", \"belajar pemrograman python dasar\")\n",
    "print(1 + 2.0)"
   ]
  },
  {
   "cell_type": "markdown",
   "metadata": {},
   "source": [
    "## Tipe data"
   ]
  },
  {
   "cell_type": "markdown",
   "metadata": {},
   "source": [
    "### Numbers\n",
    "Tipe numerik pada Python dibagi menjadi 3: `int, float, complex`"
   ]
  },
  {
   "cell_type": "markdown",
   "metadata": {},
   "source": [
    "Yang membedakan Integer dan Float adalah titik (decimal points). Misalnya dalam penulisan angka 1 jenisnya Integer, tapi jika dituliskan sebagai 1.0 artinya berjenis Float atau pecahan. Nilai bilangan kompleks (complex) dituliskan dalam formulasi x + yj, yakni bagian x adalah bilangan real, dan y adalah bilangan imajiner."
   ]
  },
  {
   "cell_type": "code",
   "execution_count": 3,
   "metadata": {},
   "outputs": [
    {
     "name": "stdout",
     "output_type": "stream",
     "text": [
      "5 is of type <class 'int'>\n",
      "2.0 is of type <class 'float'>\n",
      "(1+2j) is complex number? True\n"
     ]
    }
   ],
   "source": [
    "a = 5\n",
    "print(a, \"is of type\", type(a))\n",
    "a = 2.0\n",
    "print(a, \"is of type\", type(a))\n",
    "a = 1+2j\n",
    "print(a, \"is complex number?\", isinstance(1+2j, complex))"
   ]
  },
  {
   "cell_type": "markdown",
   "metadata": {},
   "source": [
    "Integer tidak dibatasi oleh angka atau panjang tertentu, namun dibatasi oleh memori yang tersedia sehingga tidak perlu menggunakan variabel yang menampung big number misalnya long long (C/C++), biginteger, atau sejenisnya."
   ]
  },
  {
   "cell_type": "code",
   "execution_count": 4,
   "metadata": {},
   "outputs": [
    {
     "name": "stdout",
     "output_type": "stream",
     "text": [
      "33644764876431783266621612005107543310302148460680063906564769974680081442166662368155595513633734025582065332680836159373734790483865268263040892463056431887354544369559827491606602099884183933864652731300088830269235673613135117579297437854413752130520504347701602264758318906527890855154366159582987279682987510631200575428783453215515103870818298969791613127856265033195487140214287532698187962046936097879900350962302291026368131493195275630227837628441540360584402572114334961180023091208287046088923962328835461505776583271252546093591128203925285393434620904245248929403901706233888991085841065183173360437470737908552631764325733993712871937587746897479926305837065742830161637408969178426378624212835258112820516370298089332099905707920064367426202389783111470054074998459250360633560933883831923386783056136435351892133279732908133732642652633989763922723407882928177953580570993691049175470808931841056146322338217465637321248226383092103297701648054726243842374862411453093812206564914032751086643394517512161526545361333111314042436854805106765843493523836959653428071768775328348234345557366719731392746273629108210679280784718035329131176778924659089938635459327894523777674406192240337638674004021330343297496902028328145933418826817683893072003634795623117103101291953169794607632737589253530772552375943788434504067715555779056450443016640119462580972216729758615026968443146952034614932291105970676243268515992834709891284706740862008587135016260312071903172086094081298321581077282076353186624611278245537208532365305775956430072517744315051539600905168603220349163222640885248852433158051534849622434848299380905070483482449327453732624567755879089187190803662058009594743150052402532709746995318770724376825907419939632265984147498193609285223945039707165443156421328157688908058783183404917434556270520223564846495196112460268313970975069382648706613264507665074611512677522748621598642530711298441182622661057163515069260029861704945425047491378115154139941550671256271197133252763631939606902895650288268608362241082050562430701794976171121233066073310059947366875\n"
     ]
    }
   ],
   "source": [
    "x = [0] * 10005;            # inisialisasi array 0 sebanyak 10005; x[0]=0\n",
    "x[1] = 1;                   # x[1]=1\n",
    " \n",
    "for j in range(2,10001):\n",
    "    x[j] = x[j-1] + x[j-2]  # Fibonacci\n",
    "\n",
    "print(x[10000])"
   ]
  },
  {
   "cell_type": "markdown",
   "metadata": {},
   "source": [
    "### Strings\n",
    "String adalah urutan dari karakter unicode. Dideklarasikan dengan petik tunggal atau ganda. String yang lebih dari 1 baris dapat ditandai dengan tiga petik tunggal atau ganda ''' atau \"\"\"."
   ]
  },
  {
   "cell_type": "code",
   "execution_count": 5,
   "metadata": {},
   "outputs": [
    {
     "name": "stdout",
     "output_type": "stream",
     "text": [
      "This is a string\n",
      "\n",
      "\n",
      "this is a multiline\n",
      "next new line (1)\n",
      "another new line (2)\n"
     ]
    }
   ],
   "source": [
    "satu_baris = \"This is a string\"\n",
    "banyak_baris = '''this is a multiline\n",
    "next new line (1)\n",
    "another new line (2)'''\n",
    "\n",
    "print(satu_baris)\n",
    "print('\\n')\n",
    "print(banyak_baris)"
   ]
  },
  {
   "cell_type": "markdown",
   "metadata": {},
   "source": [
    "Seperti list dan tuple, slicing operator [ ] dapat digunakan pada string. Sebuah string utuh bersifat `mutable`, namun elemennya bersifat `immutable`."
   ]
  },
  {
   "cell_type": "code",
   "execution_count": 6,
   "metadata": {},
   "outputs": [
    {
     "name": "stdout",
     "output_type": "stream",
     "text": [
      "Hello World!\n",
      "Try Python!\n"
     ]
    }
   ],
   "source": [
    "# contoh mutable\n",
    "s = \"Hello World!\"\n",
    "print(s)\n",
    "s = \"Try Python!\"\n",
    "print(s)"
   ]
  },
  {
   "cell_type": "code",
   "execution_count": 7,
   "metadata": {},
   "outputs": [
    {
     "name": "stdout",
     "output_type": "stream",
     "text": [
      "o\n",
      "World\n"
     ]
    },
    {
     "ename": "TypeError",
     "evalue": "'str' object does not support item assignment",
     "output_type": "error",
     "traceback": [
      "\u001b[0;31m---------------------------------------------------------------------------\u001b[0m",
      "\u001b[0;31mTypeError\u001b[0m                                 Traceback (most recent call last)",
      "\u001b[0;32m<ipython-input-7-fcf01c04951b>\u001b[0m in \u001b[0;36m<module>\u001b[0;34m\u001b[0m\n\u001b[1;32m      3\u001b[0m \u001b[0mprint\u001b[0m\u001b[0;34m(\u001b[0m\u001b[0ms\u001b[0m\u001b[0;34m[\u001b[0m\u001b[0;36m4\u001b[0m\u001b[0;34m]\u001b[0m\u001b[0;34m)\u001b[0m\u001b[0;34m\u001b[0m\u001b[0;34m\u001b[0m\u001b[0m\n\u001b[1;32m      4\u001b[0m \u001b[0mprint\u001b[0m\u001b[0;34m(\u001b[0m\u001b[0ms\u001b[0m\u001b[0;34m[\u001b[0m\u001b[0;36m6\u001b[0m\u001b[0;34m:\u001b[0m\u001b[0;36m11\u001b[0m\u001b[0;34m]\u001b[0m\u001b[0;34m)\u001b[0m\u001b[0;34m\u001b[0m\u001b[0;34m\u001b[0m\u001b[0m\n\u001b[0;32m----> 5\u001b[0;31m \u001b[0ms\u001b[0m\u001b[0;34m[\u001b[0m\u001b[0;36m5\u001b[0m\u001b[0;34m]\u001b[0m \u001b[0;34m=\u001b[0m \u001b[0;34m\"d\"\u001b[0m\u001b[0;34m\u001b[0m\u001b[0;34m\u001b[0m\u001b[0m\n\u001b[0m",
      "\u001b[0;31mTypeError\u001b[0m: 'str' object does not support item assignment"
     ]
    }
   ],
   "source": [
    "# contoh immutable\n",
    "s = \"Hello World!\"\n",
    "print(s[4])\n",
    "print(s[6:11])\n",
    "s[5] = \"d\""
   ]
  },
  {
   "cell_type": "markdown",
   "metadata": {},
   "source": [
    "### Bool/Boolean\n",
    "Tipe data bool atau Boolean, merupakan turunan dari bilangan bulat (integer atau int) yang hanya punya dua nilai konstanta: `True` dan `False`."
   ]
  },
  {
   "cell_type": "code",
   "execution_count": 8,
   "metadata": {},
   "outputs": [
    {
     "data": {
      "text/plain": [
       "True"
      ]
     },
     "execution_count": 8,
     "metadata": {},
     "output_type": "execute_result"
    }
   ],
   "source": [
    "isPassed = False\n",
    "nilai = 80\n",
    "status = nilai > 70\n",
    "status"
   ]
  },
  {
   "cell_type": "markdown",
   "metadata": {},
   "source": [
    "### List\n",
    "List adalah jenis kumpulan data terurut (ordered sequence), dan merupakan salah satu variabel yang sering digunakan pada Python. Elemen List pada Python tidak harus memiliki tipe data yang sama."
   ]
  },
  {
   "cell_type": "code",
   "execution_count": 9,
   "metadata": {},
   "outputs": [],
   "source": [
    "a = [1, 2.2, 'python']"
   ]
  },
  {
   "cell_type": "code",
   "execution_count": 10,
   "metadata": {},
   "outputs": [
    {
     "name": "stdout",
     "output_type": "stream",
     "text": [
      "30\n",
      "40\n",
      "[20, 25]\n",
      "[5, 10, 15, 20, 25]\n",
      "[30, 35, 40]\n",
      "[10, 20, 30]\n"
     ]
    }
   ],
   "source": [
    "x = [5,10,15,20,25,30,35,40]\n",
    "print(x[5])\n",
    "print(x[-1])\n",
    "print(x[3:5])\n",
    "print(x[:5])\n",
    "print(x[-3:])\n",
    "print(x[1:7:2])"
   ]
  },
  {
   "cell_type": "markdown",
   "metadata": {},
   "source": [
    "Elemen pada list dapat diubah atau ditambahkan. Misalnya untuk melakukan perubahan kemudian penambahan. Untuk menambah, gunakan fungsi `append`"
   ]
  },
  {
   "cell_type": "code",
   "execution_count": 11,
   "metadata": {},
   "outputs": [
    {
     "data": {
      "text/plain": [
       "[1, 2, 4]"
      ]
     },
     "execution_count": 11,
     "metadata": {},
     "output_type": "execute_result"
    }
   ],
   "source": [
    "x = [1,2,3]\n",
    "x[2]=4\n",
    "x"
   ]
  },
  {
   "cell_type": "code",
   "execution_count": 12,
   "metadata": {},
   "outputs": [
    {
     "data": {
      "text/plain": [
       "[1, 2, 4, 5]"
      ]
     },
     "execution_count": 12,
     "metadata": {},
     "output_type": "execute_result"
    }
   ],
   "source": [
    "x.append(5)\n",
    "x"
   ]
  },
  {
   "cell_type": "markdown",
   "metadata": {},
   "source": [
    "Untuk menghapus, gunakan fungsi `del`"
   ]
  },
  {
   "cell_type": "code",
   "execution_count": 13,
   "metadata": {},
   "outputs": [
    {
     "name": "stdout",
     "output_type": "stream",
     "text": [
      "['cat', 'bat', 'elephant']\n"
     ]
    }
   ],
   "source": [
    "spam = ['cat', 'bat', 'rat', 'elephant']\n",
    "del spam[2]\n",
    "print(spam)"
   ]
  },
  {
   "cell_type": "markdown",
   "metadata": {},
   "source": [
    "### Tuple\n",
    "Tuple adalah jenis dari list yang tidak dapat diubah elemennya. Umumnya tuple digunakan untuk data yang bersifat sekali tulis, dan dapat dieksekusi lebih cepat."
   ]
  },
  {
   "cell_type": "code",
   "execution_count": 14,
   "metadata": {},
   "outputs": [],
   "source": [
    "t = (5,'program', 1+3j)"
   ]
  },
  {
   "cell_type": "markdown",
   "metadata": {},
   "source": [
    "Seperti list, kita dapat melakukan slicing, namun pada tuple kita tidak dapat melakukan perubahan."
   ]
  },
  {
   "cell_type": "code",
   "execution_count": 15,
   "metadata": {},
   "outputs": [
    {
     "ename": "TypeError",
     "evalue": "'tuple' object does not support item assignment",
     "output_type": "error",
     "traceback": [
      "\u001b[0;31m---------------------------------------------------------------------------\u001b[0m",
      "\u001b[0;31mTypeError\u001b[0m                                 Traceback (most recent call last)",
      "\u001b[0;32m<ipython-input-15-139f6bb212f5>\u001b[0m in \u001b[0;36m<module>\u001b[0;34m\u001b[0m\n\u001b[1;32m      2\u001b[0m \u001b[0mt\u001b[0m\u001b[0;34m[\u001b[0m\u001b[0;36m1\u001b[0m\u001b[0;34m]\u001b[0m\u001b[0;34m\u001b[0m\u001b[0;34m\u001b[0m\u001b[0m\n\u001b[1;32m      3\u001b[0m \u001b[0mt\u001b[0m\u001b[0;34m[\u001b[0m\u001b[0;36m0\u001b[0m\u001b[0;34m:\u001b[0m\u001b[0;36m3\u001b[0m\u001b[0;34m]\u001b[0m\u001b[0;34m\u001b[0m\u001b[0;34m\u001b[0m\u001b[0m\n\u001b[0;32m----> 4\u001b[0;31m \u001b[0mt\u001b[0m\u001b[0;34m[\u001b[0m\u001b[0;36m0\u001b[0m\u001b[0;34m]\u001b[0m\u001b[0;34m=\u001b[0m\u001b[0;36m10\u001b[0m\u001b[0;34m\u001b[0m\u001b[0;34m\u001b[0m\u001b[0m\n\u001b[0m",
      "\u001b[0;31mTypeError\u001b[0m: 'tuple' object does not support item assignment"
     ]
    }
   ],
   "source": [
    "t = (5,'program', 1+3j)\n",
    "t[1]\n",
    "t[0:3]\n",
    "t[0]=10"
   ]
  },
  {
   "cell_type": "markdown",
   "metadata": {},
   "source": [
    "### Set\n",
    "Set adalah kumpulan item bersifat unik dan tanpa urutan (unordered collection)."
   ]
  },
  {
   "cell_type": "code",
   "execution_count": 16,
   "metadata": {},
   "outputs": [
    {
     "data": {
      "text/plain": [
       "{1, 2, 3}"
      ]
     },
     "execution_count": 16,
     "metadata": {},
     "output_type": "execute_result"
    }
   ],
   "source": [
    "a = {1,2,2,3,3,3}\n",
    "a"
   ]
  },
  {
   "cell_type": "markdown",
   "metadata": {},
   "source": [
    "Karena set bersifat unordered, maka kita tidak bisa mengambil sebagian data / elemen datanya menggunakan proses slicing."
   ]
  },
  {
   "cell_type": "code",
   "execution_count": 17,
   "metadata": {},
   "outputs": [
    {
     "ename": "TypeError",
     "evalue": "'set' object is not subscriptable",
     "output_type": "error",
     "traceback": [
      "\u001b[0;31m---------------------------------------------------------------------------\u001b[0m",
      "\u001b[0;31mTypeError\u001b[0m                                 Traceback (most recent call last)",
      "\u001b[0;32m<ipython-input-17-dcc17a4df178>\u001b[0m in \u001b[0;36m<module>\u001b[0;34m\u001b[0m\n\u001b[1;32m      1\u001b[0m \u001b[0ma\u001b[0m \u001b[0;34m=\u001b[0m \u001b[0;34m{\u001b[0m\u001b[0;36m1\u001b[0m\u001b[0;34m,\u001b[0m\u001b[0;36m2\u001b[0m\u001b[0;34m,\u001b[0m\u001b[0;36m3\u001b[0m\u001b[0;34m}\u001b[0m\u001b[0;34m\u001b[0m\u001b[0;34m\u001b[0m\u001b[0m\n\u001b[0;32m----> 2\u001b[0;31m \u001b[0ma\u001b[0m\u001b[0;34m[\u001b[0m\u001b[0;36m1\u001b[0m\u001b[0;34m]\u001b[0m\u001b[0;34m\u001b[0m\u001b[0;34m\u001b[0m\u001b[0m\n\u001b[0m",
      "\u001b[0;31mTypeError\u001b[0m: 'set' object is not subscriptable"
     ]
    }
   ],
   "source": [
    "a = {1,2,3}\n",
    "a[1]"
   ]
  },
  {
   "cell_type": "markdown",
   "metadata": {},
   "source": [
    "### Dictionary\n",
    "Dictionary pada Python adalah kumpulan pasangan kunci-nilai (pair of key-value) yang bersifat tidak berurutan.\n",
    "\n",
    "Pada Python, dictionary didefinisikan dengan kurawal dan tambahan definisi berikut:\n",
    "1. Setiap elemen pair key-value dipisahkan dengan koma (,)\n",
    "2. Key dan Value dipisahkan dengan titik dua (:)\n",
    "3. Key dan Value dapat berupa tipe variabel/obyek apapun"
   ]
  },
  {
   "cell_type": "code",
   "execution_count": 18,
   "metadata": {},
   "outputs": [
    {
     "name": "stdout",
     "output_type": "stream",
     "text": [
      "<class 'dict'>\n"
     ]
    }
   ],
   "source": [
    "d = {1:'value','key':2}\n",
    "print(type(d))"
   ]
  },
  {
   "cell_type": "code",
   "execution_count": 19,
   "metadata": {},
   "outputs": [
    {
     "name": "stdout",
     "output_type": "stream",
     "text": [
      "<class 'dict'>\n",
      "d[1] =  value\n",
      "d['key'] =  2\n"
     ]
    }
   ],
   "source": [
    "d = {1:'value','key':2}\n",
    "print(type(d))\n",
    "print(\"d[1] = \", d[1]);\n",
    "print(\"d['key'] = \", d['key']);"
   ]
  },
  {
   "cell_type": "markdown",
   "metadata": {},
   "source": [
    "Dictionary bukan termasuk dalam implementasi urutan (sequences), sehingga tidak bisa dipanggil dengan urutan indeks. Misalnya dalam contoh berikut dicoba dengan indeks 2, tetapi menghasilkan error (KeyError) karena tidak ada kunci (key) 2:"
   ]
  },
  {
   "cell_type": "code",
   "execution_count": 20,
   "metadata": {},
   "outputs": [
    {
     "name": "stdout",
     "output_type": "stream",
     "text": [
      "<class 'dict'>\n",
      "d[1] =  value\n",
      "d['key'] =  2\n"
     ]
    },
    {
     "ename": "KeyError",
     "evalue": "2",
     "output_type": "error",
     "traceback": [
      "\u001b[0;31m---------------------------------------------------------------------------\u001b[0m",
      "\u001b[0;31mKeyError\u001b[0m                                  Traceback (most recent call last)",
      "\u001b[0;32m<ipython-input-20-f32bffb27244>\u001b[0m in \u001b[0;36m<module>\u001b[0;34m\u001b[0m\n\u001b[1;32m      5\u001b[0m \u001b[0;34m\u001b[0m\u001b[0m\n\u001b[1;32m      6\u001b[0m \u001b[0;31m# Generates error\u001b[0m\u001b[0;34m\u001b[0m\u001b[0;34m\u001b[0m\u001b[0;34m\u001b[0m\u001b[0m\n\u001b[0;32m----> 7\u001b[0;31m \u001b[0mprint\u001b[0m\u001b[0;34m(\u001b[0m\u001b[0;34m\"d[2] = \"\u001b[0m\u001b[0;34m,\u001b[0m \u001b[0md\u001b[0m\u001b[0;34m[\u001b[0m\u001b[0;36m2\u001b[0m\u001b[0;34m]\u001b[0m\u001b[0;34m)\u001b[0m\u001b[0;34m;\u001b[0m\u001b[0;34m\u001b[0m\u001b[0;34m\u001b[0m\u001b[0m\n\u001b[0m",
      "\u001b[0;31mKeyError\u001b[0m: 2"
     ]
    }
   ],
   "source": [
    "d = {1:'value','key':2}\n",
    "print(type(d))\n",
    "print(\"d[1] = \", d[1]);\n",
    "print(\"d['key'] = \", d['key']);\n",
    " \n",
    "# Generates error\n",
    "print(\"d[2] = \", d[2]);"
   ]
  },
  {
   "cell_type": "markdown",
   "metadata": {},
   "source": [
    "### Konversi (conversion, cast) antar tipe data\n",
    "Kita dapat melakukan konversi tipe data bawaan dengan menggunakan fungsi konversi tipe bawaan (standard type) misalnya: int(), float(), str(), dll."
   ]
  },
  {
   "cell_type": "code",
   "execution_count": 21,
   "metadata": {},
   "outputs": [
    {
     "name": "stdout",
     "output_type": "stream",
     "text": [
      "5.0\n",
      "10\n",
      "-10\n",
      "2.5\n",
      "25\n"
     ]
    },
    {
     "ename": "ValueError",
     "evalue": "invalid literal for int() with base 10: '1p'",
     "output_type": "error",
     "traceback": [
      "\u001b[0;31m---------------------------------------------------------------------------\u001b[0m",
      "\u001b[0;31mValueError\u001b[0m                                Traceback (most recent call last)",
      "\u001b[0;32m<ipython-input-21-3005bf26dfbc>\u001b[0m in \u001b[0;36m<module>\u001b[0;34m\u001b[0m\n\u001b[1;32m      4\u001b[0m \u001b[0mprint\u001b[0m\u001b[0;34m(\u001b[0m\u001b[0mfloat\u001b[0m\u001b[0;34m(\u001b[0m\u001b[0;34m'2.5'\u001b[0m\u001b[0;34m)\u001b[0m\u001b[0;34m)\u001b[0m\u001b[0;34m\u001b[0m\u001b[0;34m\u001b[0m\u001b[0m\n\u001b[1;32m      5\u001b[0m \u001b[0mprint\u001b[0m\u001b[0;34m(\u001b[0m\u001b[0mstr\u001b[0m\u001b[0;34m(\u001b[0m\u001b[0;36m25\u001b[0m\u001b[0;34m)\u001b[0m\u001b[0;34m)\u001b[0m\u001b[0;34m\u001b[0m\u001b[0;34m\u001b[0m\u001b[0m\n\u001b[0;32m----> 6\u001b[0;31m \u001b[0mprint\u001b[0m\u001b[0;34m(\u001b[0m\u001b[0mint\u001b[0m\u001b[0;34m(\u001b[0m\u001b[0;34m'1p'\u001b[0m\u001b[0;34m)\u001b[0m\u001b[0;34m)\u001b[0m\u001b[0;34m\u001b[0m\u001b[0;34m\u001b[0m\u001b[0m\n\u001b[0m",
      "\u001b[0;31mValueError\u001b[0m: invalid literal for int() with base 10: '1p'"
     ]
    }
   ],
   "source": [
    "print(float(5))\n",
    "print(int(10.6))\n",
    "print(int(-10.6))\n",
    "print(float('2.5'))\n",
    "print(str(25))\n",
    "print(int('1p'))"
   ]
  },
  {
   "cell_type": "code",
   "execution_count": 22,
   "metadata": {},
   "outputs": [
    {
     "name": "stdout",
     "output_type": "stream",
     "text": [
      "{1, 2, 3}\n",
      "(5, 6, 7)\n",
      "['h', 'e', 'l', 'l', 'o']\n"
     ]
    }
   ],
   "source": [
    "print(set([1,2,3]))\n",
    "print(tuple({5,6,7}))\n",
    "print(list('hello'))"
   ]
  },
  {
   "cell_type": "markdown",
   "metadata": {},
   "source": [
    "List dari beberapa List yang isinya pasangan nilai menjadi Dictionary. \n",
    "\n",
    "Serta konversi List dari beberapa Tuple yang isinya pasangan nilai menjadi Dictionary."
   ]
  },
  {
   "cell_type": "code",
   "execution_count": 23,
   "metadata": {},
   "outputs": [
    {
     "name": "stdout",
     "output_type": "stream",
     "text": [
      "{1: 2, 3: 4}\n",
      "{3: 26, 4: 44}\n"
     ]
    }
   ],
   "source": [
    "print(dict([[1,2],[3,4]]))\n",
    "print(dict([(3,26),(4,44)]))"
   ]
  },
  {
   "cell_type": "markdown",
   "metadata": {},
   "source": [
    "Referensi yang dapat dibaca:\n",
    "\n",
    "1.  https://docs.python.org/id/3.8/tutorial/introduction.html\n",
    "2.  https://docs.python.org/id/3.8/library/stdtypes.html\n",
    "3.  https://docs.python.org/id/3.8/reference/datamodel.html#the-standard-type-hierarchy"
   ]
  },
  {
   "cell_type": "markdown",
   "metadata": {},
   "source": [
    "## Output - Memasukkan nilai variabel pada string\n",
    "\n",
    "Untuk memasukkan nilai variabel pada string, Python memiliki dua cara. Cara yang pertama adalah langsung menggabungkan variabel pada statement print()."
   ]
  },
  {
   "cell_type": "code",
   "execution_count": 24,
   "metadata": {},
   "outputs": [
    {
     "name": "stdout",
     "output_type": "stream",
     "text": [
      "The value of a is 5\n",
      "hello kakak\n"
     ]
    }
   ],
   "source": [
    "a = 5\n",
    "print('The value of a is', a)\n",
    "print('hello {}'.format('kakak'))"
   ]
  },
  {
   "cell_type": "markdown",
   "metadata": {},
   "source": [
    "Cara yang kedua mirip dengan sintaks C/C++, yakni menggunakan operator “%” yang ditambahkan dengan \"argument specifiers\", misalnya \"%s\" and \"%d\". \n",
    "\n",
    "Beberapa argument specifier yang umum digunakan:\n",
    "1. %s - String\n",
    "2. %d - Integers\n",
    "3. %f - Bilangan Pecahan\n",
    "4. %.<digit>f - Bilangan pecahan dengan sejumlah digit angka dibelakang koma.\n",
    "5. %x/%X - Bilangan bulat dalam representasi Hexa (huruf kecil/huruf besar)"
   ]
  },
  {
   "cell_type": "code",
   "execution_count": 25,
   "metadata": {},
   "outputs": [
    {
     "name": "stdout",
     "output_type": "stream",
     "text": [
      "Hello, John!\n",
      "John is 15 years old.\n",
      "A list: [1, 2, 3]\n",
      "a: a and b: B\n"
     ]
    }
   ],
   "source": [
    "name = \"John\"\n",
    "print(\"Hello, %s!\" % name)\n",
    "\n",
    "name = \"John\"\n",
    "age = 15\n",
    "print(\"%s is %d years old.\" % (name, age))\n",
    "\n",
    "mylist = [1,2,3]\n",
    "print(\"A list: %s\" % mylist)\n",
    "\n",
    "a, b = 10, 11\n",
    "a, b\n",
    "print('a: %x and b: %X' % (a, b))"
   ]
  },
  {
   "cell_type": "markdown",
   "metadata": {},
   "source": [
    "## Input\n",
    "Gunakan fungsi input(), dengan argumen dalam kurung () adalah teks yang ingin ditampilkan (prompt) dan variabel sebelum tanda sama dengan (=) adalah penampung hasil dari input pengguna."
   ]
  },
  {
   "cell_type": "code",
   "execution_count": 26,
   "metadata": {},
   "outputs": [
    {
     "name": "stdout",
     "output_type": "stream",
     "text": [
      "Enter a number: 90\n"
     ]
    }
   ],
   "source": [
    "num = input('Enter a number: ')"
   ]
  },
  {
   "cell_type": "code",
   "execution_count": 27,
   "metadata": {},
   "outputs": [
    {
     "data": {
      "text/plain": [
       "'90'"
      ]
     },
     "execution_count": 27,
     "metadata": {},
     "output_type": "execute_result"
    }
   ],
   "source": [
    "num"
   ]
  },
  {
   "cell_type": "markdown",
   "metadata": {},
   "source": [
    "Secara default, input dari user adalah string (walaupun pada contoh di atas, 10 sebenarnya dimaksudkan sebagai integer) yang ditandai dengan petik. Untuk itu diperlukan fungsi konversi yang akan dibahas pada modul-modul selanjutnya, misalnya int() dan float()."
   ]
  },
  {
   "cell_type": "code",
   "execution_count": 28,
   "metadata": {},
   "outputs": [
    {
     "name": "stdout",
     "output_type": "stream",
     "text": [
      "90\n",
      "90.0\n"
     ]
    }
   ],
   "source": [
    "print(int(num))\n",
    "print(float(num))"
   ]
  },
  {
   "cell_type": "markdown",
   "metadata": {},
   "source": [
    "Jika input merupakan string berisi ekspresi matematika, maka konversi dengan int() atau float() akan menghasilkan error. Gunakan fungsi eval() yang sekaligus juga berfungsi menyelesaikan ekspresi matematika."
   ]
  },
  {
   "cell_type": "code",
   "execution_count": 29,
   "metadata": {},
   "outputs": [
    {
     "ename": "ValueError",
     "evalue": "invalid literal for int() with base 10: '2+3'",
     "output_type": "error",
     "traceback": [
      "\u001b[0;31m---------------------------------------------------------------------------\u001b[0m",
      "\u001b[0;31mValueError\u001b[0m                                Traceback (most recent call last)",
      "\u001b[0;32m<ipython-input-29-7dc57dc68b93>\u001b[0m in \u001b[0;36m<module>\u001b[0;34m\u001b[0m\n\u001b[0;32m----> 1\u001b[0;31m \u001b[0mint\u001b[0m\u001b[0;34m(\u001b[0m\u001b[0;34m'2+3'\u001b[0m\u001b[0;34m)\u001b[0m\u001b[0;34m\u001b[0m\u001b[0;34m\u001b[0m\u001b[0m\n\u001b[0m",
      "\u001b[0;31mValueError\u001b[0m: invalid literal for int() with base 10: '2+3'"
     ]
    }
   ],
   "source": [
    "int('2+3')"
   ]
  },
  {
   "cell_type": "code",
   "execution_count": 30,
   "metadata": {},
   "outputs": [
    {
     "data": {
      "text/plain": [
       "5"
      ]
     },
     "execution_count": 30,
     "metadata": {},
     "output_type": "execute_result"
    }
   ],
   "source": [
    "eval('2+3')"
   ]
  },
  {
   "cell_type": "markdown",
   "metadata": {},
   "source": [
    "## Command-line arguments\n",
    "Python memungkinkan untuk membuat sebuah \"skrip\" berupa deretan kode program kemudian disimpan dalam sebuah berkas dengan nama akhiran .py (misal: skrip.py).\n",
    "\n",
    "Utamanya fungsi yang akan digunakan adalah sys.argv yang memuat seluruh argumen yang diterima. \n",
    "\n",
    "`import sys\n",
    "print('Number of arguments:', len(sys.argv), 'arguments.')\n",
    "print('Argument List:', str(sys.argv))\n",
    "print(sys.argv[1])`\n",
    "\n",
    "kemudian, di terminal, bisa jalankan\n",
    "`python test.py arg1 arg2 arg3`"
   ]
  },
  {
   "cell_type": "markdown",
   "metadata": {},
   "source": [
    "Referensi yang dapat dipelajari: \n",
    "\n",
    "1. https://docs.python.org/id/3.8/library/string.html#format-specification-mini-language\n",
    "2. https://docs.python.org/id/3.8/library/string.html#format-string-syntax"
   ]
  },
  {
   "cell_type": "markdown",
   "metadata": {},
   "source": [
    "# Transformasi angka\n",
    "## Menambahkan awalan 0 pada angka\n",
    "\n",
    "Untuk menambahkan awalan 0 (0001 untuk angka 1, 0101 untuk angka 101, dan sebagainya), gunakan fungsi `zfill()`"
   ]
  },
  {
   "cell_type": "code",
   "execution_count": 31,
   "metadata": {},
   "outputs": [
    {
     "data": {
      "text/plain": [
       "int"
      ]
     },
     "execution_count": 31,
     "metadata": {},
     "output_type": "execute_result"
    }
   ],
   "source": [
    "x = 1\n",
    "type(x)"
   ]
  },
  {
   "cell_type": "code",
   "execution_count": 32,
   "metadata": {},
   "outputs": [
    {
     "data": {
      "text/plain": [
       "'00001'"
      ]
     },
     "execution_count": 32,
     "metadata": {},
     "output_type": "execute_result"
    }
   ],
   "source": [
    "str(x).zfill(5)"
   ]
  },
  {
   "cell_type": "markdown",
   "metadata": {},
   "source": [
    "## Metode upper() dan lower() dari String (dan karakter)\n",
    "Method `upper()` dan `lower()` adalah metode konversi untuk membuat seluruh karakter dalam string menjadi kapital (upper) atau huruf kecil (lower). Jika terdapat karakter non huruf yang tidak memiliki opsi kapital, maka karakter tersebut tidak diubah."
   ]
  },
  {
   "cell_type": "code",
   "execution_count": 33,
   "metadata": {},
   "outputs": [
    {
     "data": {
      "text/plain": [
       "'HELLO WORLD!'"
      ]
     },
     "execution_count": 33,
     "metadata": {},
     "output_type": "execute_result"
    }
   ],
   "source": [
    "p = 'Hello world!'\n",
    "p = p.upper()\n",
    "p"
   ]
  },
  {
   "cell_type": "code",
   "execution_count": 34,
   "metadata": {},
   "outputs": [
    {
     "data": {
      "text/plain": [
       "'hello world!'"
      ]
     },
     "execution_count": 34,
     "metadata": {},
     "output_type": "execute_result"
    }
   ],
   "source": [
    "p = p.lower()\n",
    "p"
   ]
  },
  {
   "cell_type": "markdown",
   "metadata": {},
   "source": [
    "Fungsi `upper()` dan `lower()` umumnya digunakan untuk memiliki perbandingan yang bersifat case-insensitive, misal 'Okesip' dengan 'OKEsip'."
   ]
  },
  {
   "cell_type": "code",
   "execution_count": 36,
   "metadata": {},
   "outputs": [
    {
     "name": "stdout",
     "output_type": "stream",
     "text": [
      "How are you?Great\n",
      "I feel great too.\n"
     ]
    }
   ],
   "source": [
    "feeling = input('How are you?')\n",
    "if feeling.lower() == 'great':\n",
    "    print('I feel great too.')\n",
    "else:\n",
    "    print('I hope the rest of your day is good.')"
   ]
  },
  {
   "cell_type": "markdown",
   "metadata": {},
   "source": [
    "## isupper() dan islower()\n",
    "Fungsi `isupper()` dan `islower()` akan mengembalikan nilai boolean jika string yang dimaksud memiliki satu karakter dan seluruhnya kapital atau seluruhnya huruf kecil."
   ]
  },
  {
   "cell_type": "code",
   "execution_count": 37,
   "metadata": {},
   "outputs": [
    {
     "data": {
      "text/plain": [
       "False"
      ]
     },
     "execution_count": 37,
     "metadata": {},
     "output_type": "execute_result"
    }
   ],
   "source": [
    "p = 'Hello world!'\n",
    "p.islower()"
   ]
  },
  {
   "cell_type": "code",
   "execution_count": 38,
   "metadata": {},
   "outputs": [
    {
     "data": {
      "text/plain": [
       "False"
      ]
     },
     "execution_count": 38,
     "metadata": {},
     "output_type": "execute_result"
    }
   ],
   "source": [
    "p.isupper()"
   ]
  },
  {
   "cell_type": "code",
   "execution_count": 39,
   "metadata": {},
   "outputs": [
    {
     "data": {
      "text/plain": [
       "True"
      ]
     },
     "execution_count": 39,
     "metadata": {},
     "output_type": "execute_result"
    }
   ],
   "source": [
    "'HELLO'.isupper()"
   ]
  },
  {
   "cell_type": "code",
   "execution_count": 40,
   "metadata": {},
   "outputs": [
    {
     "data": {
      "text/plain": [
       "True"
      ]
     },
     "execution_count": 40,
     "metadata": {},
     "output_type": "execute_result"
    }
   ],
   "source": [
    "'abc12345'.islower()"
   ]
  },
  {
   "cell_type": "code",
   "execution_count": 41,
   "metadata": {},
   "outputs": [
    {
     "data": {
      "text/plain": [
       "False"
      ]
     },
     "execution_count": 41,
     "metadata": {},
     "output_type": "execute_result"
    }
   ],
   "source": [
    "'12345'.islower()"
   ]
  },
  {
   "cell_type": "code",
   "execution_count": 42,
   "metadata": {},
   "outputs": [
    {
     "data": {
      "text/plain": [
       "False"
      ]
     },
     "execution_count": 42,
     "metadata": {},
     "output_type": "execute_result"
    }
   ],
   "source": [
    "'12345'.isupper()"
   ]
  },
  {
   "cell_type": "code",
   "execution_count": 43,
   "metadata": {},
   "outputs": [
    {
     "name": "stdout",
     "output_type": "stream",
     "text": [
      "HELLO\n",
      "hello\n",
      "HELLO\n",
      "hello\n",
      "True\n"
     ]
    }
   ],
   "source": [
    "print('Hello'.upper())\n",
    "print('Hello'.upper().lower())\n",
    "print('Hello'.upper().lower().upper())\n",
    "print('HELLO'.lower())\n",
    "print('HELLO'.lower().islower())"
   ]
  },
  {
   "cell_type": "markdown",
   "metadata": {},
   "source": [
    "## Metode isX dari String untuk Pengecekan\n",
    "Selain `islower()` and `isupper()`, terdapat beberapa metode lain yang dapat digunakan untuk memeriksa isi dari string. Semua method berikut mengembalikan nilai boolean:\n",
    "\n",
    "1. `isalpha()` mengembalikan True jika string berisi hanya huruf dan tidak kosong.\n",
    "2. `isalnum()` mengembalikan True jika string berisi hanya huruf atau angka, dan tidak kosong.\n",
    "3. `isdecimal()` mengembalikan True jika string berisi hanya angka/numerik dan tidak kosong.\n",
    "4. `isspace()` mengembalikan True jika string berisi hanya spasi, tab, newline, atau whitespaces lainnya dan tidak kosong.\n",
    "5. `istitle()` mengembalikan True jika string berisi kata yang diawali huruf kapital dan dilanjutkan dengan huruf kecil seterusnya."
   ]
  },
  {
   "cell_type": "code",
   "execution_count": 44,
   "metadata": {},
   "outputs": [
    {
     "name": "stdout",
     "output_type": "stream",
     "text": [
      "True\n",
      "False\n",
      "True\n",
      "True\n",
      "True\n",
      "True\n",
      "True\n",
      "True\n",
      "False\n",
      "False\n"
     ]
    }
   ],
   "source": [
    "print('hello'.isalpha())\n",
    "print('hello123'.isalpha())\n",
    "print('hello123'.isalnum())\n",
    "print('hello'.isalnum())\n",
    "print('123'.isdecimal())\n",
    "print('    '.isspace())\n",
    "print('This Is Title Case'.istitle())\n",
    "print('This Is Title Case 123'.istitle())\n",
    "print('This Is not Title Case'.istitle())\n",
    "print('This Is NOT Title Case Either'.istitle())"
   ]
  },
  {
   "cell_type": "code",
   "execution_count": 45,
   "metadata": {},
   "outputs": [
    {
     "name": "stdout",
     "output_type": "stream",
     "text": [
      "Enter your age:\n",
      "seventeen\n",
      "Please enter a number for your age.\n",
      "Enter your age:\n",
      "17\n",
      "Select a new password (letters and numbers only):\n",
      "password123!\n",
      "Passwords can only have letters and numbers.\n",
      "Select a new password (letters and numbers only):\n",
      "password123\n"
     ]
    }
   ],
   "source": [
    "while True:\n",
    "    print('Enter your age:')\n",
    "    age = input()\n",
    "    if age.isdecimal():\n",
    "        break\n",
    "    print('Please enter a number for your age.')\n",
    "while True:\n",
    "    print('Select a new password (letters and numbers only):')\n",
    "    password = input()\n",
    "    if password.isalnum():\n",
    "        break\n",
    "    print('Passwords can only have letters and numbers.')"
   ]
  },
  {
   "cell_type": "markdown",
   "metadata": {},
   "source": [
    "## Metode startswith() dan endswith() dari String\n",
    "Fungsi `startswith()` dan `endswith()` akan mengembalikan nilai True berdasarkan nilai awalan atau akhiran string."
   ]
  },
  {
   "cell_type": "code",
   "execution_count": 46,
   "metadata": {},
   "outputs": [
    {
     "name": "stdout",
     "output_type": "stream",
     "text": [
      "True\n",
      "True\n",
      "False\n",
      "False\n",
      "True\n",
      "True\n"
     ]
    }
   ],
   "source": [
    "print('Hello world!'.startswith('Hello'))\n",
    "print('Hello world!'.endswith('world!'))\n",
    "print('abc123'.startswith('abcdef'))\n",
    "print('abc123'.endswith('12'))\n",
    "print('Hello world!'.startswith('Hello world!'))\n",
    "print('Hello world!'.endswith('Hello world!'))"
   ]
  },
  {
   "cell_type": "markdown",
   "metadata": {},
   "source": [
    "## Metode join() dan split() dari String\n",
    "Fungsi `join()` berguna jika memiliki sejumlah string yang perlu digabungkan. "
   ]
  },
  {
   "cell_type": "code",
   "execution_count": 47,
   "metadata": {},
   "outputs": [
    {
     "name": "stdout",
     "output_type": "stream",
     "text": [
      "cats, rats, bats\n",
      "My name is Simon\n",
      "MyABCnameABCisABCSimon\n"
     ]
    }
   ],
   "source": [
    "print(', '.join(['cats', 'rats', 'bats']))\n",
    "print(' '.join(['My', 'name', 'is', 'Simon']))\n",
    "print('ABC'.join(['My', 'name', 'is', 'Simon']))"
   ]
  },
  {
   "cell_type": "markdown",
   "metadata": {},
   "source": [
    "Metode `split()` memisahkan substring berdasarkan delimiter tertentu (defaultnya adalah whitespace - spasi, tab, atau newline)"
   ]
  },
  {
   "cell_type": "code",
   "execution_count": 48,
   "metadata": {},
   "outputs": [
    {
     "name": "stdout",
     "output_type": "stream",
     "text": [
      "['My', 'name', 'is', 'Simon']\n",
      "['My', 'name', 'is', 'Simon']\n",
      "['My na', 'e is Si', 'on']\n"
     ]
    }
   ],
   "source": [
    "print('My name is Simon'.split())\n",
    "print('MyABCnameABCisABCSimon'.split('ABC'))\n",
    "print('My name is Simon'.split('m'))"
   ]
  },
  {
   "cell_type": "markdown",
   "metadata": {},
   "source": [
    "Salah satu penggunaan paling sering dari `split()` adalah memisahkan setiap baris pada string multiline"
   ]
  },
  {
   "cell_type": "code",
   "execution_count": 49,
   "metadata": {},
   "outputs": [
    {
     "data": {
      "text/plain": [
       "['Dear Alice,',\n",
       " 'How have you been? I am fine.',\n",
       " 'There is a container in the fridge',\n",
       " 'that is labeled \"Milk Experiment\".',\n",
       " 'Please do not drink it.',\n",
       " 'Sincerely,',\n",
       " 'Bob']"
      ]
     },
     "execution_count": 49,
     "metadata": {},
     "output_type": "execute_result"
    }
   ],
   "source": [
    "a = '''Dear Alice,\n",
    "How have you been? I am fine.\n",
    "There is a container in the fridge\n",
    "that is labeled \"Milk Experiment\".\n",
    "Please do not drink it.\n",
    "Sincerely,\n",
    "Bob'''\n",
    "a.split('\\n')"
   ]
  },
  {
   "cell_type": "markdown",
   "metadata": {},
   "source": [
    "## Teks rata kanan/kiri/tengah dengan rjust(), ljust(), dan center()\n",
    "Fungsi untuk teks rata kanan/kiri/tengah adalah `rjust()`, `ljust()` atau `center()`. Fungsi `rjust()` dan `ljust()` akan menambahkan spasi pada string untuk membuatnya sesuai (misalnya rata kiri atau rata kanan). Argumennya berupa integer yang merupakan panjang teks secara keseluruhan (bukan jumlah spasi yang ditambahkan)."
   ]
  },
  {
   "cell_type": "code",
   "execution_count": 50,
   "metadata": {},
   "outputs": [
    {
     "name": "stdout",
     "output_type": "stream",
     "text": [
      "     Hello\n",
      "               Hello\n",
      "         Hello World\n",
      "Hello     \n"
     ]
    }
   ],
   "source": [
    "print('Hello'.rjust(10))\n",
    "print('Hello'.rjust(20))\n",
    "print('Hello World'.rjust(20))\n",
    "print('Hello'.ljust(10))"
   ]
  },
  {
   "cell_type": "markdown",
   "metadata": {},
   "source": [
    "Selain spasi, bisa juga bisa menambahkan karakter lain dengan mengisikan parameter kedua pada fungsi `rjust()` atau `ljust()`."
   ]
  },
  {
   "cell_type": "code",
   "execution_count": 51,
   "metadata": {},
   "outputs": [
    {
     "name": "stdout",
     "output_type": "stream",
     "text": [
      "***************Hello\n",
      "Hello---------------\n"
     ]
    }
   ],
   "source": [
    "print('Hello'.rjust(20, '*'))\n",
    "print('Hello'.ljust(20, '-'))"
   ]
  },
  {
   "cell_type": "code",
   "execution_count": 52,
   "metadata": {},
   "outputs": [
    {
     "name": "stdout",
     "output_type": "stream",
     "text": [
      "       Hello        \n",
      "=======Hello========\n"
     ]
    }
   ],
   "source": [
    "print('Hello'.center(20))\n",
    "print('Hello'.center(20, '='))"
   ]
  },
  {
   "cell_type": "markdown",
   "metadata": {},
   "source": [
    "## Hapus Whitespace dengan strip(), rstrip(), dan lstrip()\n",
    "Metode `strip()` akan menghapus whitespace pada bagian awal atau akhir string. Fungsi `lstrip()` dan `rstrip()` akan menghapus sesuai dengan namanya, awal saja atau akhir saja"
   ]
  },
  {
   "cell_type": "code",
   "execution_count": 53,
   "metadata": {},
   "outputs": [
    {
     "data": {
      "text/plain": [
       "'Hello World'"
      ]
     },
     "execution_count": 53,
     "metadata": {},
     "output_type": "execute_result"
    }
   ],
   "source": [
    "spam = '    Hello World     '\n",
    "spam.strip()"
   ]
  },
  {
   "cell_type": "code",
   "execution_count": 54,
   "metadata": {},
   "outputs": [
    {
     "name": "stdout",
     "output_type": "stream",
     "text": [
      "Hello World     \n",
      "    Hello World\n"
     ]
    }
   ],
   "source": [
    "print(spam.lstrip())\n",
    "print(spam.rstrip())"
   ]
  },
  {
   "cell_type": "code",
   "execution_count": 55,
   "metadata": {},
   "outputs": [
    {
     "data": {
      "text/plain": [
       "'BaconSpamEggs'"
      ]
     },
     "execution_count": 55,
     "metadata": {},
     "output_type": "execute_result"
    }
   ],
   "source": [
    "spam = 'SpamSpamBaconSpamEggsSpamSpam'\n",
    "spam.strip('ampS')"
   ]
  },
  {
   "cell_type": "markdown",
   "metadata": {},
   "source": [
    "## Mengganti string/substring dengan replace()\n",
    "Fungsi `replace()` adalah satu fungsi python yang mengembalikan string baru dalam kondisi substring telah tergantikan dengan parameter yang dimasukkan. Fungsi replace bersifat Case Sensitive"
   ]
  },
  {
   "cell_type": "code",
   "execution_count": 56,
   "metadata": {},
   "outputs": [
    {
     "name": "stdout",
     "output_type": "stream",
     "text": [
      "Ayo belajar Pemrograman di Dicoding\n"
     ]
    }
   ],
   "source": [
    "string = \"Ayo belajar Coding di Dicoding\"\n",
    "print(string.replace(\"Coding\", \"Pemrograman\"))"
   ]
  },
  {
   "cell_type": "code",
   "execution_count": 57,
   "metadata": {},
   "outputs": [
    {
     "name": "stdout",
     "output_type": "stream",
     "text": [
      "Ayo belajar Pemrograman di Dicoding karena Coding adalah bahasa masa depan\n"
     ]
    }
   ],
   "source": [
    "string = \"Ayo belajar Coding di Dicoding karena Coding adalah bahasa masa depan\"\n",
    "print(string.replace(\"Coding\", \"Pemrograman\", 1))"
   ]
  },
  {
   "cell_type": "markdown",
   "metadata": {},
   "source": [
    "## Operasi pada urutan (sequences: List, Set, String)\n",
    "### len()\n",
    "Fungsi `len()` digunakan menghitung panjang atau banyaknya elemen dari List (untuk String menjadi menghitung jumlah karakternya)."
   ]
  },
  {
   "cell_type": "code",
   "execution_count": 58,
   "metadata": {},
   "outputs": [
    {
     "name": "stdout",
     "output_type": "stream",
     "text": [
      "[1, 2, 3, 3, 4, 4, 4, 4, 5, 6]\n",
      "10\n",
      "{1, 2, 3, 4, 5, 6}\n",
      "6\n",
      "Hello, World\n",
      "12\n"
     ]
    }
   ],
   "source": [
    "l = [1,2,3,3,4,4,4,4,5,6]\n",
    "s = set(l)\n",
    "x = \"Hello, World\"\n",
    " \n",
    "print(l)\n",
    "print(len(l))\n",
    " \n",
    "print(s)\n",
    "print(len(s))\n",
    " \n",
    "print(x)\n",
    "print(len(x))"
   ]
  },
  {
   "cell_type": "markdown",
   "metadata": {},
   "source": [
    "### Penggabungan dan Replikasi"
   ]
  },
  {
   "cell_type": "code",
   "execution_count": 59,
   "metadata": {},
   "outputs": [
    {
     "data": {
      "text/plain": [
       "[1, 2, 3, 'A', 'B', 'C']"
      ]
     },
     "execution_count": 59,
     "metadata": {},
     "output_type": "execute_result"
    }
   ],
   "source": [
    "[1, 2, 3] + ['A', 'B', 'C']"
   ]
  },
  {
   "cell_type": "code",
   "execution_count": 60,
   "metadata": {},
   "outputs": [
    {
     "data": {
      "text/plain": [
       "['X', 'Y', 'Z', 'X', 'Y', 'Z', 'X', 'Y', 'Z']"
      ]
     },
     "execution_count": 60,
     "metadata": {},
     "output_type": "execute_result"
    }
   ],
   "source": [
    "['X', 'Y', 'Z'] * 3"
   ]
  },
  {
   "cell_type": "code",
   "execution_count": 61,
   "metadata": {},
   "outputs": [
    {
     "data": {
      "text/plain": [
       "[1, 2, 3, 'A', 'B', 'C']"
      ]
     },
     "execution_count": 61,
     "metadata": {},
     "output_type": "execute_result"
    }
   ],
   "source": [
    "spam = [1, 2, 3]\n",
    "spam = spam + ['A', 'B', 'C']\n",
    "spam"
   ]
  },
  {
   "cell_type": "markdown",
   "metadata": {},
   "source": [
    "Fungsi pengali juga dapat Anda manfaatkan untuk inisialisasi List."
   ]
  },
  {
   "cell_type": "code",
   "execution_count": 62,
   "metadata": {},
   "outputs": [
    {
     "data": {
      "text/plain": [
       "[0, 0, 0, 0, 0, 0, 0, 0, 0, 0]"
      ]
     },
     "execution_count": 62,
     "metadata": {},
     "output_type": "execute_result"
    }
   ],
   "source": [
    "arr = [0]*10\n",
    "len(arr)\n",
    "arr"
   ]
  },
  {
   "cell_type": "markdown",
   "metadata": {},
   "source": [
    "### Range\n",
    "Fungsi `range()` memberikan deret bilangan dengan pola tertentu. Untuk melakukan perulangan (misalnya for) dalam mengakses elemen list, dapat menggunakan fungsi `range()` pada Python."
   ]
  },
  {
   "cell_type": "code",
   "execution_count": 63,
   "metadata": {},
   "outputs": [
    {
     "name": "stdout",
     "output_type": "stream",
     "text": [
      "0\n",
      "1\n",
      "2\n",
      "3\n",
      "4\n",
      "5\n",
      "6\n",
      "7\n",
      "8\n"
     ]
    }
   ],
   "source": [
    "for i in range(9):\n",
    "    print(i)"
   ]
  },
  {
   "cell_type": "code",
   "execution_count": 64,
   "metadata": {},
   "outputs": [
    {
     "name": "stdout",
     "output_type": "stream",
     "text": [
      "3\n",
      "4\n",
      "5\n",
      "6\n",
      "7\n",
      "8\n"
     ]
    }
   ],
   "source": [
    "for i in range(3, 9):\n",
    "    print(i)"
   ]
  },
  {
   "cell_type": "code",
   "execution_count": 65,
   "metadata": {},
   "outputs": [
    {
     "data": {
      "text/plain": [
       "[1, 3, 5, 7]"
      ]
     },
     "execution_count": 65,
     "metadata": {},
     "output_type": "execute_result"
    }
   ],
   "source": [
    "[_ for _ in range(1, 9, 2)]  # list comprehension"
   ]
  },
  {
   "cell_type": "markdown",
   "metadata": {},
   "source": [
    "### in dan not in\n",
    "Gunakan fungsi `in` and `not in` untuk mengetahui sebuah nilai atau objek ada dalam list."
   ]
  },
  {
   "cell_type": "code",
   "execution_count": 66,
   "metadata": {},
   "outputs": [
    {
     "data": {
      "text/plain": [
       "True"
      ]
     },
     "execution_count": 66,
     "metadata": {},
     "output_type": "execute_result"
    }
   ],
   "source": [
    "'howdy' in ['hello', 'hi', 'howdy', 'heyas']"
   ]
  },
  {
   "cell_type": "code",
   "execution_count": 67,
   "metadata": {},
   "outputs": [
    {
     "data": {
      "text/plain": [
       "False"
      ]
     },
     "execution_count": 67,
     "metadata": {},
     "output_type": "execute_result"
    }
   ],
   "source": [
    "spam = ['hello', 'hi', 'howdy', 'heyas']\n",
    "'cat' in spam"
   ]
  },
  {
   "cell_type": "code",
   "execution_count": 68,
   "metadata": {},
   "outputs": [
    {
     "name": "stdout",
     "output_type": "stream",
     "text": [
      "False\n",
      "True\n"
     ]
    }
   ],
   "source": [
    "print('howdy' not in spam)\n",
    "print('cat' not in spam)"
   ]
  },
  {
   "cell_type": "markdown",
   "metadata": {},
   "source": [
    "### Memberikan nilai (assignment) untuk lebih dari 1 variabel sekaligus"
   ]
  },
  {
   "cell_type": "code",
   "execution_count": 69,
   "metadata": {},
   "outputs": [],
   "source": [
    "cat = ['fat', 'orange', 'loud']\n",
    "size = cat[0]\n",
    "color = cat[1]\n",
    "disposition = cat[2]\n",
    "\n",
    "cat = ['fat', 'orange', 'loud'] # From List\n",
    "size, color, disposition = cat\n",
    "cat = ('fat', 'orange', 'loud')  # From Tuple\n",
    "size, color, disposition = cat"
   ]
  },
  {
   "cell_type": "code",
   "execution_count": 70,
   "metadata": {},
   "outputs": [
    {
     "ename": "ValueError",
     "evalue": "not enough values to unpack (expected 4, got 3)",
     "output_type": "error",
     "traceback": [
      "\u001b[0;31m---------------------------------------------------------------------------\u001b[0m",
      "\u001b[0;31mValueError\u001b[0m                                Traceback (most recent call last)",
      "\u001b[0;32m<ipython-input-70-37384bd9945f>\u001b[0m in \u001b[0;36m<module>\u001b[0;34m\u001b[0m\n\u001b[1;32m      1\u001b[0m \u001b[0mcat\u001b[0m \u001b[0;34m=\u001b[0m \u001b[0;34m[\u001b[0m\u001b[0;34m'fat'\u001b[0m\u001b[0;34m,\u001b[0m \u001b[0;34m'orange'\u001b[0m\u001b[0;34m,\u001b[0m \u001b[0;34m'loud'\u001b[0m\u001b[0;34m]\u001b[0m\u001b[0;34m\u001b[0m\u001b[0;34m\u001b[0m\u001b[0m\n\u001b[0;32m----> 2\u001b[0;31m \u001b[0msize\u001b[0m\u001b[0;34m,\u001b[0m \u001b[0mcolor\u001b[0m\u001b[0;34m,\u001b[0m \u001b[0mdisposition\u001b[0m\u001b[0;34m,\u001b[0m \u001b[0mname\u001b[0m \u001b[0;34m=\u001b[0m \u001b[0mcat\u001b[0m\u001b[0;34m\u001b[0m\u001b[0;34m\u001b[0m\u001b[0m\n\u001b[0m",
      "\u001b[0;31mValueError\u001b[0m: not enough values to unpack (expected 4, got 3)"
     ]
    }
   ],
   "source": [
    "cat = ['fat', 'orange', 'loud']\n",
    "size, color, disposition, name = cat"
   ]
  },
  {
   "cell_type": "code",
   "execution_count": 71,
   "metadata": {},
   "outputs": [
    {
     "name": "stdout",
     "output_type": "stream",
     "text": [
      "Bob\n",
      "Alice\n"
     ]
    }
   ],
   "source": [
    "a, b = 'Alice', 'Bob'\n",
    "a, b = b, a\n",
    "print(a)\n",
    "print(b)"
   ]
  },
  {
   "cell_type": "markdown",
   "metadata": {},
   "source": [
    "### Sort\n",
    "List dapat diurutkan dengan method `sort()`."
   ]
  },
  {
   "cell_type": "code",
   "execution_count": 73,
   "metadata": {},
   "outputs": [
    {
     "name": "stdout",
     "output_type": "stream",
     "text": [
      "[-7, 1, 2, 3.14, 5]\n",
      "['ants', 'badgers', 'cats', 'dogs', 'elephants']\n"
     ]
    }
   ],
   "source": [
    "x = [2, 5, 3.14, 1, -7]\n",
    "y = ['ants', 'cats', 'dogs', 'badgers', 'elephants']\n",
    "x.sort()\n",
    "y.sort()\n",
    "print(x)\n",
    "print(y)"
   ]
  },
  {
   "cell_type": "code",
   "execution_count": 75,
   "metadata": {},
   "outputs": [
    {
     "data": {
      "text/plain": [
       "['elephants', 'dogs', 'cats', 'badgers', 'ants']"
      ]
     },
     "execution_count": 75,
     "metadata": {},
     "output_type": "execute_result"
    }
   ],
   "source": [
    "y.sort(reverse=True)\n",
    "y"
   ]
  },
  {
   "cell_type": "markdown",
   "metadata": {},
   "source": [
    "Tiga hal yang perlu Anda ingat dalam metode sort:\n",
    "\n",
    "1. Metode sort langsung melakukan pengurutan pada variabel yang dioperasikannya, sehingga tidak perlu operasi assignment (=).\n",
    "2. Metode sort tidak dapat mengurutkan list yang memiliki angka dan string sekaligus di dalamnya.\n",
    "3. Metode sort menggunakan urutan ASCII, sehingga nilai huruf kapital (uppercase) akan lebih dahulu dibandingkan huruf kecil (lowercase)."
   ]
  },
  {
   "cell_type": "code",
   "execution_count": 76,
   "metadata": {},
   "outputs": [
    {
     "ename": "TypeError",
     "evalue": "'<' not supported between instances of 'str' and 'int'",
     "output_type": "error",
     "traceback": [
      "\u001b[0;31m---------------------------------------------------------------------------\u001b[0m",
      "\u001b[0;31mTypeError\u001b[0m                                 Traceback (most recent call last)",
      "\u001b[0;32m<ipython-input-76-8546c4fb0907>\u001b[0m in \u001b[0;36m<module>\u001b[0;34m\u001b[0m\n\u001b[1;32m      1\u001b[0m \u001b[0mz\u001b[0m \u001b[0;34m=\u001b[0m \u001b[0;34m[\u001b[0m\u001b[0;36m1\u001b[0m\u001b[0;34m,\u001b[0m \u001b[0;36m3\u001b[0m\u001b[0;34m,\u001b[0m \u001b[0;36m2\u001b[0m\u001b[0;34m,\u001b[0m \u001b[0;36m4\u001b[0m\u001b[0;34m,\u001b[0m \u001b[0;34m'Alice'\u001b[0m\u001b[0;34m,\u001b[0m \u001b[0;34m'Bob'\u001b[0m\u001b[0;34m]\u001b[0m\u001b[0;34m\u001b[0m\u001b[0;34m\u001b[0m\u001b[0m\n\u001b[0;32m----> 2\u001b[0;31m \u001b[0mz\u001b[0m\u001b[0;34m.\u001b[0m\u001b[0msort\u001b[0m\u001b[0;34m(\u001b[0m\u001b[0;34m)\u001b[0m\u001b[0;34m\u001b[0m\u001b[0;34m\u001b[0m\u001b[0m\n\u001b[0m",
      "\u001b[0;31mTypeError\u001b[0m: '<' not supported between instances of 'str' and 'int'"
     ]
    }
   ],
   "source": [
    "z = [1, 3, 2, 4, 'Alice', 'Bob']\n",
    "z.sort()"
   ]
  },
  {
   "cell_type": "code",
   "execution_count": 77,
   "metadata": {},
   "outputs": [
    {
     "data": {
      "text/plain": [
       "['Alice', 'Bob', 'Carol', 'ants', 'badgers', 'cats']"
      ]
     },
     "execution_count": 77,
     "metadata": {},
     "output_type": "execute_result"
    }
   ],
   "source": [
    "m = ['Alice', 'ants', 'Bob', 'badgers', 'Carol', 'cats']\n",
    "m.sort()\n",
    "m"
   ]
  },
  {
   "cell_type": "markdown",
   "metadata": {},
   "source": [
    "Gunakan keyword str.lower sebagai argumen metode sort. Hal ini akan membuat metode sort menganggap semua objek menggunakan huruf kecil, tanpa mengubah kondisi asli dari objek tersebut."
   ]
  },
  {
   "cell_type": "code",
   "execution_count": 78,
   "metadata": {},
   "outputs": [
    {
     "data": {
      "text/plain": [
       "['a', 'A', 'z', 'Z']"
      ]
     },
     "execution_count": 78,
     "metadata": {},
     "output_type": "execute_result"
    }
   ],
   "source": [
    "spam = ['a', 'z', 'A', 'Z']\n",
    "spam.sort(key=str.lower)\n",
    "spam"
   ]
  },
  {
   "cell_type": "markdown",
   "metadata": {},
   "source": [
    "## Manipulasi String\n",
    "### String Literals\n",
    "Umumnya, string ditulis dengan mudah di Python, diapit oleh tanda petik tunggal. Tetapi, dalam kondisi tertentu, dibutuhkan petik tunggal di tengah string (misalnya struktur kepemilikan dalam Bahasa Inggris - That’s Alice’s Cat). Apabila kita menuliskannya sebagai 'That is Alice's cat.', maka Python akan salah mengira bahwa string berakhir di Alice, dan selebihnya merupakan kode yang invalid."
   ]
  },
  {
   "cell_type": "code",
   "execution_count": 80,
   "metadata": {},
   "outputs": [
    {
     "data": {
      "text/plain": [
       "\"That is Alice's cat.\""
      ]
     },
     "execution_count": 80,
     "metadata": {},
     "output_type": "execute_result"
    }
   ],
   "source": [
    "st = \"That is Alice's cat.\"\n",
    "st"
   ]
  },
  {
   "cell_type": "markdown",
   "metadata": {},
   "source": [
    "Escape Character memungkinkan untuk menggunakan karakter yang sebelumnya tidak bisa dimasukkan dalam string. Umumnya diawali dengan backslash (\\) dan diikuti karakter tertentu yang diinginkan. Contohnya, untuk petik tunggal Anda dapat menambahkan seperti : `\\`"
   ]
  },
  {
   "cell_type": "code",
   "execution_count": 81,
   "metadata": {},
   "outputs": [
    {
     "data": {
      "text/plain": [
       "\"Say hi to Bob's mother.\""
      ]
     },
     "execution_count": 81,
     "metadata": {},
     "output_type": "execute_result"
    }
   ],
   "source": [
    "st = 'Say hi to Bob\\'s mother.'\n",
    "st"
   ]
  },
  {
   "cell_type": "markdown",
   "metadata": {},
   "source": [
    "Beberapa contoh Escape Character\n",
    "\n",
    "1. `\\'`          Single quote\n",
    "2. `\\\"`          Double quote\n",
    "3. `\\t`          Tab\n",
    "4. `\\n`         Newline (line break)\n",
    "5. `\\\\`          Backslash"
   ]
  },
  {
   "cell_type": "code",
   "execution_count": 82,
   "metadata": {},
   "outputs": [
    {
     "name": "stdout",
     "output_type": "stream",
     "text": [
      "Hello there!\n",
      "How are you?\n",
      "I'm doing fine.\n"
     ]
    }
   ],
   "source": [
    "print(\"Hello there!\\nHow are you?\\nI\\'m doing fine.\")"
   ]
  },
  {
   "cell_type": "code",
   "execution_count": 83,
   "metadata": {},
   "outputs": [
    {
     "name": "stdout",
     "output_type": "stream",
     "text": [
      "Hello there!\n",
      "How are you?\n",
      "I'm fine.\n"
     ]
    }
   ],
   "source": [
    "multi_line = \"\"\"Hello there!\n",
    "How are you?\n",
    "I'm fine.\"\"\"\n",
    "print(multi_line)"
   ]
  },
  {
   "cell_type": "markdown",
   "metadata": {},
   "source": [
    "### Raw Strings\n",
    "Sebaliknya, Python juga menyediakan cara untuk memasukkan string sesuai dengan apapun input atau teks yang diberikan. Metode ini dinamakan Raw Strings. Umumnya digunakan untuk regex atau beberapa implementasi lain yang sangat bergantung pada keberadaan backslash. Untuk menjadikan raw string, tambahkan huruf r sebelum pembuka string."
   ]
  },
  {
   "cell_type": "code",
   "execution_count": 84,
   "metadata": {},
   "outputs": [
    {
     "name": "stdout",
     "output_type": "stream",
     "text": [
      "That is Carol\\'s cat.\n"
     ]
    }
   ],
   "source": [
    "print(r'That is Carol\\'s cat.')"
   ]
  },
  {
   "cell_type": "markdown",
   "metadata": {},
   "source": [
    "## Operator dan Ekspresi (Expressions)"
   ]
  },
  {
   "cell_type": "code",
   "execution_count": 85,
   "metadata": {},
   "outputs": [
    {
     "data": {
      "text/plain": [
       "5"
      ]
     },
     "execution_count": 85,
     "metadata": {},
     "output_type": "execute_result"
    }
   ],
   "source": [
    "2 + 3"
   ]
  },
  {
   "cell_type": "code",
   "execution_count": 86,
   "metadata": {},
   "outputs": [
    {
     "data": {
      "text/plain": [
       "15"
      ]
     },
     "execution_count": 86,
     "metadata": {},
     "output_type": "execute_result"
    }
   ],
   "source": [
    "3 * 5"
   ]
  },
  {
   "cell_type": "markdown",
   "metadata": {},
   "source": [
    "### Jenis-jenis operator\n",
    "#### Matematika dan string"
   ]
  },
  {
   "cell_type": "code",
   "execution_count": 87,
   "metadata": {},
   "outputs": [
    {
     "name": "stdout",
     "output_type": "stream",
     "text": [
      "8\n",
      "ab\n",
      "-5.2\n",
      "26\n",
      "6\n",
      "lalala\n",
      "81\n",
      "4.333333333333333\n",
      "4\n",
      "-5\n",
      "4.0\n",
      "1\n",
      "1.5\n",
      "8\n",
      "5\n",
      "1\n",
      "7\n",
      "6\n",
      "-6\n"
     ]
    }
   ],
   "source": [
    "print(3 + 5)\n",
    "print('a' + 'b')\n",
    "print(0 - 5.2)\n",
    "print(50 - 24)\n",
    "print(2 * 3)\n",
    "print('la' * 3)\n",
    "print(3 ** 4)\n",
    "print(13 / 3)\n",
    "print(13 // 3)\n",
    "print(-13 // 3)\n",
    "print(9//1.81)\n",
    "print(13 % 3)\n",
    "print(-25.5 % 2.25)\n",
    "# Menggeser representasi bit/binary dari operand pertama sebanyak operand kedua ke kiri.\n",
    "# 2 direpresentasikan sebagai 10 dalam binary.\n",
    "# Geser ke kiri sebanyak 2x, menjadi 1000 (tambahkan 0 di belakangnya).\n",
    "print(2 << 2)\n",
    "# 11 direpresentasikan sebagai 1011 dalam binary.\n",
    "# Geser ke kanan sebanyak 1x, menjadi 101.\n",
    "print(11 >> 1)\n",
    "# & (bit-wise AND), menjalankan operasi binary AND pada representasi operand pertama dan kedua.\n",
    "print(5 & 3)\n",
    "# | (bit-wise OR), menjalankan operasi binary OR pada representasi operand pertama dan kedua.\n",
    "print(5 | 3)\n",
    "# ^ (bit-wise XOR), menjalankan operasi binary XOR pada representasi operand pertama dan kedua.\n",
    "print(5 ^ 3)\n",
    "# ~ (bit-wise invert), menjalankan operasi binary invert pada representasi operand.\n",
    "# Nilai invert dari x adalah -(x+1), menggunakan metode Two’s Complement\n",
    "print(~5)"
   ]
  },
  {
   "cell_type": "markdown",
   "metadata": {},
   "source": [
    "Lebih lanjut mengenai Two’s Complement dapat dibaca pada https://en.wikipedia.org/wiki/Two%27s_complement"
   ]
  },
  {
   "cell_type": "markdown",
   "metadata": {},
   "source": [
    "#### Perbandingan"
   ]
  },
  {
   "cell_type": "code",
   "execution_count": 88,
   "metadata": {},
   "outputs": [
    {
     "name": "stdout",
     "output_type": "stream",
     "text": [
      "False\n",
      "True\n",
      "True\n",
      "False\n",
      "False\n",
      "False\n",
      "True\n",
      "True\n"
     ]
    }
   ],
   "source": [
    "print(5 < 3)\n",
    "print(5 > 3)\n",
    "x = 3\n",
    "y = 6\n",
    "print(x <= y)\n",
    "print(x >= y)\n",
    "print(x == y)\n",
    "x = 'str'\n",
    "y = 'stR'\n",
    "print(x == y)\n",
    "x = 'str'\n",
    "y = 'str'\n",
    "print(x == y)\n",
    "x = 2\n",
    "y = 3\n",
    "print(x != y)"
   ]
  },
  {
   "cell_type": "code",
   "execution_count": 89,
   "metadata": {},
   "outputs": [
    {
     "name": "stdout",
     "output_type": "stream",
     "text": [
      "a = 1\n",
      "b = 5.0\n",
      "lt(a, b): True\n",
      "le(a, b): True\n",
      "eq(a, b): False\n",
      "ne(a, b): True\n",
      "ge(a, b): False\n",
      "gt(a, b): False\n"
     ]
    }
   ],
   "source": [
    "# Penggunaan le, lt, gt, ge, eq, ne\n",
    "from operator import *\n",
    "a = 1\n",
    "b = 5.0\n",
    "print('a = {}'.format(a))\n",
    "print('b = {}'.format(b))\n",
    "for func in (lt, le, eq, ne, ge, gt):\n",
    "    print ('{}(a, b): {}'.format(func.__name__, func(a, b)))"
   ]
  },
  {
   "cell_type": "markdown",
   "metadata": {},
   "source": [
    "#### Boolean Operator"
   ]
  },
  {
   "cell_type": "code",
   "execution_count": 91,
   "metadata": {},
   "outputs": [
    {
     "data": {
      "text/plain": [
       "False"
      ]
     },
     "execution_count": 91,
     "metadata": {},
     "output_type": "execute_result"
    }
   ],
   "source": [
    "x = True\n",
    "not x"
   ]
  },
  {
   "cell_type": "code",
   "execution_count": 93,
   "metadata": {},
   "outputs": [
    {
     "name": "stdout",
     "output_type": "stream",
     "text": [
      "False\n",
      "True\n"
     ]
    }
   ],
   "source": [
    "x = False\n",
    "y = True\n",
    "print(x and y)\n",
    "print(x or y)"
   ]
  },
  {
   "cell_type": "markdown",
   "metadata": {},
   "source": [
    "#### Cara singkat menuliskan operasi\n",
    "Contoh\n",
    "\n",
    "`a = 2`\n",
    "\n",
    "`a = a * 3`\n",
    "\n",
    "menjadi\n",
    "\n",
    "`a = 2`\n",
    "\n",
    "`a *= 3`"
   ]
  },
  {
   "cell_type": "markdown",
   "metadata": {},
   "source": [
    "#### Urutan matematis dalam melakukan evaluasi\n",
    "\n",
    "Berikut adalah tabel urutan yang diambil dari referensi Dokumentasi Python:\n",
    "\n",
    "| Operator   |      Description      |\n",
    "|----------|:-------------:|\n",
    "| lambda |  Lambda expression |\n",
    "| if - else |    Conditional expression   |\n",
    "| or | Boolean OR |\n",
    "|and|Boolean AND|\n",
    "|not x|Boolean NOT|\n",
    "|in, not in, is, is not, <, <=, >, >=, !=, ==|Comparisons, including membership tests and identity tests|\n",
    "|||Bitwise OR|\n",
    "|^|Bitwise XOR|\n",
    "|&|Bitwise AND|\n",
    "|<<, >>|Shifts|\n",
    "|+, -|Addition and subtraction|\n",
    "|*, @, /, //, %|Multiplication, matrix multiplication, division, floor division, remainder|\n",
    "|+x, -x, ~x|Positive, negative, bitwise NOT|\n",
    "|**|Exponentiation|\n",
    "|await x|Await expression|\n",
    "|x[index], x[index:index], x(arguments...), x.attribute|Subscription, slicing, call, attribute reference|\n",
    "|(expressions...), [expressions...], {key: value...},{expressions...}|Binding or tuple display, list display, dictionary display, set display|"
   ]
  },
  {
   "cell_type": "markdown",
   "metadata": {},
   "source": [
    "**Tip:**\n",
    "Gunakan kurung untuk memudahkan keterbacaan dan memastikan urutan secara tepat.\n",
    "`2 + (3 * 4)` akan lebih mudah dibaca daripada `2 + 3 * 4`, meskipun hasilnya sama."
   ]
  },
  {
   "cell_type": "markdown",
   "metadata": {},
   "source": [
    "#### Percabangan\n",
    "\n",
    "**If**\n",
    "Tip: Python menganggap setiap nilai non-zero dan non-null sebagai True dan nilai zero/null sebagai False."
   ]
  },
  {
   "cell_type": "code",
   "execution_count": 94,
   "metadata": {},
   "outputs": [
    {
     "name": "stdout",
     "output_type": "stream",
     "text": [
      "1 - Got a true expression value\n",
      "100\n"
     ]
    }
   ],
   "source": [
    "var1 = 100\n",
    "if var1:\n",
    "   print (\"1 - Got a true expression value\")\n",
    "   print (var1)\n",
    "var2 = 0\n",
    "if var2:\n",
    "   print (\"2 - Got a true expression value\")\n",
    "   print (var2)"
   ]
  },
  {
   "cell_type": "markdown",
   "metadata": {},
   "source": [
    "**Else**"
   ]
  },
  {
   "cell_type": "code",
   "execution_count": 95,
   "metadata": {},
   "outputs": [
    {
     "name": "stdout",
     "output_type": "stream",
     "text": [
      "Enter amount: 3000\n",
      "Discount 300.0\n",
      "Net payable: 2700.0\n"
     ]
    }
   ],
   "source": [
    "amount = int(input(\"Enter amount: \"))\n",
    "if amount<1000:\n",
    "   discount = amount*0.05\n",
    "   print (\"Discount\",discount)\n",
    "else:\n",
    "   discount = amount*0.10\n",
    "   print (\"Discount\",discount)\n",
    "   \n",
    "print (\"Net payable:\",amount-discount)"
   ]
  },
  {
   "cell_type": "code",
   "execution_count": 96,
   "metadata": {},
   "outputs": [
    {
     "name": "stdout",
     "output_type": "stream",
     "text": [
      "bilangan 8 adalah genap\n"
     ]
    }
   ],
   "source": [
    "a = 8\n",
    "if a % 2 == 0:\n",
    "    print('bilangan {} adalah genap'.format(a))\n",
    "else:\n",
    "    print('bilangan {} adalah ganjil'.format(a))"
   ]
  },
  {
   "cell_type": "markdown",
   "metadata": {},
   "source": [
    "**Elif - Alternatif untuk Switch/Case dan IF bertingkat di python**\n",
    "\n",
    "Elif adalah kependekan dari else if, dan merupakan alternatif untuk if bertingkat atau switch/case di beberapa bahasa pemrograman lain. Sebuah IF Statement dapat diikuti satu atau lebih statement elif (opsional & tidak dibatasi)."
   ]
  },
  {
   "cell_type": "code",
   "execution_count": 97,
   "metadata": {},
   "outputs": [
    {
     "name": "stdout",
     "output_type": "stream",
     "text": [
      "Enter amount: 5000\n",
      "Discount 750.0\n",
      "Net payable: 4250.0\n"
     ]
    }
   ],
   "source": [
    "amount = int(input(\"Enter amount: \"))\n",
    "if amount<1000:\n",
    "   discount = amount*0.05\n",
    "   print (\"Discount\",discount)\n",
    "elif amount<5000:\n",
    "   discount = amount*0.10\n",
    "   print (\"Discount\",discount)\n",
    "else:\n",
    "   discount = amount*0.15\n",
    "   print (\"Discount\",discount)\n",
    "print (\"Net payable:\",amount-discount)"
   ]
  },
  {
   "cell_type": "markdown",
   "metadata": {},
   "source": [
    "**Catatan:** Jika sudah memenuhi salah satu kondisi if/elif, maka program akan keluar dari blok IF Statement. Anda harus memastikan urutan secara logika, IF, Elif, dan Else dalam tingkatan yang tepat.\n",
    "\n",
    "`#Case 1\n",
    "if amount<1000:\n",
    "    discount = amount*0.05\n",
    "    print (\"Discount\",discount)\n",
    "elif amount<5000:\n",
    "    discount = amount*0.10\n",
    "    print (\"Discount\",discount)\n",
    "else:\n",
    "   discount = amount*0.15`\n",
    "   \n",
    "`#Case 2\n",
    "if amount>0:\n",
    "    discount = amount*0.05\n",
    "    print (\"Discount\",discount)\n",
    "elif amount>1000:\n",
    "    discount = amount*0.10\n",
    "    print (\"Discount\",discount)\n",
    "else:\n",
    "   discount = amount*0.15`\n",
    "\n",
    "|  Input Amount  |      #Case 1      |  #Case 2 |\n",
    "|----------|:-------------:|------:|\n",
    "| 600 |    `Discount 30.0 Net payable: 570.0`   |   `Discount 30.0 Net payable: 570.0` |\n",
    "| 3000 | `Discount 300.0 Net payable: 2700.0` |    `Discount 150.0 Net payable: 2850.0` |\n",
    "|6000|\t`Discount 900.0 Net payable: 5100.0`\t| `Discount 300.0 Net payable: 5700.0`|"
   ]
  },
  {
   "cell_type": "code",
   "execution_count": 98,
   "metadata": {},
   "outputs": [
    {
     "name": "stdout",
     "output_type": "stream",
     "text": [
      "bilangan 0 adalah nol\n"
     ]
    }
   ],
   "source": [
    "a = 0\n",
    "if a > 0:\n",
    "    print('bilangan {} adalah positif'.format(a))\n",
    "elif a < 0:\n",
    "    print('bilangan {} adalah negatif'.format(a))\n",
    "else:\n",
    "    print('bilangan {} adalah nol'.format(a))"
   ]
  },
  {
   "cell_type": "markdown",
   "metadata": {},
   "source": [
    "#### Ternary Operators\n",
    "Ternary operator lebih dikenal sebagai conditional expressions pada Python. Operator menentukan sesuatu berdasarkan kondisi True atau False.\n",
    "\n",
    "`if (condition):\n",
    "    condition_if_true\n",
    "else:\n",
    "    condition_if_false`\n",
    "\n",
    "menjadi `condition_if_true if condition else condition_if_false`\n",
    "\n",
    "`is_nice = True\n",
    "if (is_nice):\n",
    "    state = ”nice”\n",
    "else:\n",
    "    state = “not nice”`\n",
    "\n",
    "menjadi \n",
    "`is_nice = True\n",
    "state = \"nice\" if is_nice else \"not nice\"`\n",
    "\n",
    "Opsi lain dari ternary operators melibatkan tuples. Contoh kodenya berikut:\n",
    "\n",
    "`if (condition):\n",
    "    condition_if_true\n",
    "else:\n",
    "    condition_if_false`\n",
    "\n",
    "menjadi `(condition_if_false, condition_if_true)[condition]`\n",
    "\n",
    "`nice = True\n",
    "if (nice):\n",
    "    personality=”nice”\n",
    "else:\n",
    "    personality=“mean”`\n",
    "\n",
    "menjadi \n",
    "`nice = True\n",
    "personality = (\"mean\", \"nice\")[nice]`"
   ]
  },
  {
   "cell_type": "markdown",
   "metadata": {},
   "source": [
    "Aplikasi kedua ini menurut beberapa aktivis kurang ‘pythonic’, salah satunya karena cukup membingungkan untuk meletakkan klausa saat True atau False. Selain itu, kedua nilai akan tetap dievaluasi walaupun hanya dibutuhkan salah satunya. "
   ]
  },
  {
   "cell_type": "code",
   "execution_count": 99,
   "metadata": {},
   "outputs": [
    {
     "name": "stdout",
     "output_type": "stream",
     "text": [
      "2\n"
     ]
    },
    {
     "ename": "ZeroDivisionError",
     "evalue": "division by zero",
     "output_type": "error",
     "traceback": [
      "\u001b[0;31m---------------------------------------------------------------------------\u001b[0m",
      "\u001b[0;31mZeroDivisionError\u001b[0m                         Traceback (most recent call last)",
      "\u001b[0;32m<ipython-input-99-7f6a83dcc2d4>\u001b[0m in \u001b[0;36m<module>\u001b[0;34m\u001b[0m\n\u001b[1;32m      2\u001b[0m \u001b[0mprint\u001b[0m\u001b[0;34m(\u001b[0m\u001b[0;36m2\u001b[0m \u001b[0;32mif\u001b[0m \u001b[0mcondition\u001b[0m \u001b[0;32melse\u001b[0m \u001b[0;36m1\u001b[0m\u001b[0;34m/\u001b[0m\u001b[0;36m0\u001b[0m\u001b[0;34m)\u001b[0m\u001b[0;34m\u001b[0m\u001b[0;34m\u001b[0m\u001b[0m\n\u001b[1;32m      3\u001b[0m \u001b[0;31m#Output is 2\u001b[0m\u001b[0;34m\u001b[0m\u001b[0;34m\u001b[0m\u001b[0;34m\u001b[0m\u001b[0m\n\u001b[0;32m----> 4\u001b[0;31m \u001b[0mprint\u001b[0m\u001b[0;34m(\u001b[0m\u001b[0;34m(\u001b[0m\u001b[0;36m1\u001b[0m\u001b[0;34m/\u001b[0m\u001b[0;36m0\u001b[0m\u001b[0;34m,\u001b[0m \u001b[0;36m2\u001b[0m\u001b[0;34m)\u001b[0m\u001b[0;34m[\u001b[0m\u001b[0mcondition\u001b[0m\u001b[0;34m]\u001b[0m\u001b[0;34m)\u001b[0m\u001b[0;34m\u001b[0m\u001b[0;34m\u001b[0m\u001b[0m\n\u001b[0m\u001b[1;32m      5\u001b[0m \u001b[0;31m#ZeroDivisionError is raised\u001b[0m\u001b[0;34m\u001b[0m\u001b[0;34m\u001b[0m\u001b[0;34m\u001b[0m\u001b[0m\n",
      "\u001b[0;31mZeroDivisionError\u001b[0m: division by zero"
     ]
    }
   ],
   "source": [
    "condition = True\n",
    "print(2 if condition else 1/0)\n",
    "#Output is 2\n",
    "print((1/0, 2)[condition])\n",
    "#ZeroDivisionError is raised"
   ]
  },
  {
   "cell_type": "markdown",
   "metadata": {},
   "source": [
    "Ternary-tuples sebaiknya dihindari, terutama untuk kode (dan klausa True/False) yang kompleks. Ternary dapat digunakan untuk menyingkat kode saat klausa True/False Anda cukup pendek - misalnya sebuah fungsi tanpa parameter."
   ]
  },
  {
   "cell_type": "markdown",
   "metadata": {},
   "source": [
    "#### ShortHand Ternary\n",
    "Selain Ternary Operators, dikenal juga shorthand ternary tag yang mungkin membantu memeriksa kode/hasil dari sebuah fungsi dan memastikan outputnya tidak menyebabkan error (atau minimal memberikan informasi relevan saat error):"
   ]
  },
  {
   "cell_type": "code",
   "execution_count": 100,
   "metadata": {},
   "outputs": [
    {
     "name": "stdout",
     "output_type": "stream",
     "text": [
      "No data returned\n"
     ]
    }
   ],
   "source": [
    "output = None\n",
    "msg = output or \"No data returned\"\n",
    "print(msg)"
   ]
  },
  {
   "cell_type": "markdown",
   "metadata": {},
   "source": [
    "### Perulangan\n",
    "#### For"
   ]
  },
  {
   "cell_type": "code",
   "execution_count": 102,
   "metadata": {},
   "outputs": [
    {
     "name": "stdout",
     "output_type": "stream",
     "text": [
      "Current Letter: P\n",
      "Current Letter: y\n",
      "Current Letter: t\n",
      "Current Letter: h\n",
      "Current Letter: o\n",
      "Current Letter: n\n",
      "Current fruit: banana\n",
      "Current fruit: apple\n",
      "Current fruit: mango\n"
     ]
    }
   ],
   "source": [
    "for letter in 'Python':  # First Example\n",
    "    print('Current Letter: {}'.format(letter))\n",
    "fruits = ['banana', 'apple', 'mango']\n",
    "for fruit in fruits:  # Second Example\n",
    "    print('Current fruit: {}'.format(fruit))"
   ]
  },
  {
   "cell_type": "code",
   "execution_count": 103,
   "metadata": {},
   "outputs": [
    {
     "name": "stdout",
     "output_type": "stream",
     "text": [
      "Current fruit: banana\n",
      "Current fruit: apple\n",
      "Current fruit: mango\n"
     ]
    }
   ],
   "source": [
    "fruits = ['banana', 'apple', 'mango']\n",
    "for index in range(len(fruits)):\n",
    "    print('Current fruit: {}'.format(fruits[index]))"
   ]
  },
  {
   "cell_type": "markdown",
   "metadata": {},
   "source": [
    "#### While\n",
    "**Tip:** Python tidak memiliki do.. while statement"
   ]
  },
  {
   "cell_type": "code",
   "execution_count": 104,
   "metadata": {},
   "outputs": [
    {
     "name": "stdout",
     "output_type": "stream",
     "text": [
      "The count is: 0\n",
      "The count is: 1\n",
      "The count is: 2\n",
      "The count is: 3\n",
      "The count is: 4\n"
     ]
    }
   ],
   "source": [
    "count = 0\n",
    "while (count < 5):\n",
    "    print('The count is: {}'.format(count))\n",
    "    count = count + 1"
   ]
  },
  {
   "cell_type": "code",
   "execution_count": 105,
   "metadata": {},
   "outputs": [
    {
     "name": "stdout",
     "output_type": "stream",
     "text": [
      "Enter a number: 10\n",
      "You entered: 10\n",
      "Enter a number: 1\n",
      "You entered: 1\n",
      "Enter a number: abc\n",
      "You entered: abc\n"
     ]
    },
    {
     "ename": "KeyboardInterrupt",
     "evalue": "",
     "output_type": "error",
     "traceback": [
      "\u001b[0;31m---------------------------------------------------------------------------\u001b[0m",
      "\u001b[0;31mKeyboardInterrupt\u001b[0m                         Traceback (most recent call last)",
      "\u001b[0;32m~/DS/miniconda3/envs/playground/lib/python3.7/site-packages/ipykernel/kernelbase.py\u001b[0m in \u001b[0;36m_input_request\u001b[0;34m(self, prompt, ident, parent, password)\u001b[0m\n\u001b[1;32m    883\u001b[0m             \u001b[0;32mtry\u001b[0m\u001b[0;34m:\u001b[0m\u001b[0;34m\u001b[0m\u001b[0;34m\u001b[0m\u001b[0m\n\u001b[0;32m--> 884\u001b[0;31m                 \u001b[0mident\u001b[0m\u001b[0;34m,\u001b[0m \u001b[0mreply\u001b[0m \u001b[0;34m=\u001b[0m \u001b[0mself\u001b[0m\u001b[0;34m.\u001b[0m\u001b[0msession\u001b[0m\u001b[0;34m.\u001b[0m\u001b[0mrecv\u001b[0m\u001b[0;34m(\u001b[0m\u001b[0mself\u001b[0m\u001b[0;34m.\u001b[0m\u001b[0mstdin_socket\u001b[0m\u001b[0;34m,\u001b[0m \u001b[0;36m0\u001b[0m\u001b[0;34m)\u001b[0m\u001b[0;34m\u001b[0m\u001b[0;34m\u001b[0m\u001b[0m\n\u001b[0m\u001b[1;32m    885\u001b[0m             \u001b[0;32mexcept\u001b[0m \u001b[0mException\u001b[0m\u001b[0;34m:\u001b[0m\u001b[0;34m\u001b[0m\u001b[0;34m\u001b[0m\u001b[0m\n",
      "\u001b[0;32m~/DS/miniconda3/envs/playground/lib/python3.7/site-packages/jupyter_client/session.py\u001b[0m in \u001b[0;36mrecv\u001b[0;34m(self, socket, mode, content, copy)\u001b[0m\n\u001b[1;32m    812\u001b[0m         \u001b[0;32mtry\u001b[0m\u001b[0;34m:\u001b[0m\u001b[0;34m\u001b[0m\u001b[0;34m\u001b[0m\u001b[0m\n\u001b[0;32m--> 813\u001b[0;31m             \u001b[0mmsg_list\u001b[0m \u001b[0;34m=\u001b[0m \u001b[0msocket\u001b[0m\u001b[0;34m.\u001b[0m\u001b[0mrecv_multipart\u001b[0m\u001b[0;34m(\u001b[0m\u001b[0mmode\u001b[0m\u001b[0;34m,\u001b[0m \u001b[0mcopy\u001b[0m\u001b[0;34m=\u001b[0m\u001b[0mcopy\u001b[0m\u001b[0;34m)\u001b[0m\u001b[0;34m\u001b[0m\u001b[0;34m\u001b[0m\u001b[0m\n\u001b[0m\u001b[1;32m    814\u001b[0m         \u001b[0;32mexcept\u001b[0m \u001b[0mzmq\u001b[0m\u001b[0;34m.\u001b[0m\u001b[0mZMQError\u001b[0m \u001b[0;32mas\u001b[0m \u001b[0me\u001b[0m\u001b[0;34m:\u001b[0m\u001b[0;34m\u001b[0m\u001b[0;34m\u001b[0m\u001b[0m\n",
      "\u001b[0;32m~/DS/miniconda3/envs/playground/lib/python3.7/site-packages/zmq/sugar/socket.py\u001b[0m in \u001b[0;36mrecv_multipart\u001b[0;34m(self, flags, copy, track)\u001b[0m\n\u001b[1;32m    474\u001b[0m         \"\"\"\n\u001b[0;32m--> 475\u001b[0;31m         \u001b[0mparts\u001b[0m \u001b[0;34m=\u001b[0m \u001b[0;34m[\u001b[0m\u001b[0mself\u001b[0m\u001b[0;34m.\u001b[0m\u001b[0mrecv\u001b[0m\u001b[0;34m(\u001b[0m\u001b[0mflags\u001b[0m\u001b[0;34m,\u001b[0m \u001b[0mcopy\u001b[0m\u001b[0;34m=\u001b[0m\u001b[0mcopy\u001b[0m\u001b[0;34m,\u001b[0m \u001b[0mtrack\u001b[0m\u001b[0;34m=\u001b[0m\u001b[0mtrack\u001b[0m\u001b[0;34m)\u001b[0m\u001b[0;34m]\u001b[0m\u001b[0;34m\u001b[0m\u001b[0;34m\u001b[0m\u001b[0m\n\u001b[0m\u001b[1;32m    476\u001b[0m         \u001b[0;31m# have first part already, only loop while more to receive\u001b[0m\u001b[0;34m\u001b[0m\u001b[0;34m\u001b[0m\u001b[0;34m\u001b[0m\u001b[0m\n",
      "\u001b[0;32mzmq/backend/cython/socket.pyx\u001b[0m in \u001b[0;36mzmq.backend.cython.socket.Socket.recv\u001b[0;34m()\u001b[0m\n",
      "\u001b[0;32mzmq/backend/cython/socket.pyx\u001b[0m in \u001b[0;36mzmq.backend.cython.socket.Socket.recv\u001b[0;34m()\u001b[0m\n",
      "\u001b[0;32mzmq/backend/cython/socket.pyx\u001b[0m in \u001b[0;36mzmq.backend.cython.socket._recv_copy\u001b[0;34m()\u001b[0m\n",
      "\u001b[0;32m~/DS/miniconda3/envs/playground/lib/python3.7/site-packages/zmq/backend/cython/checkrc.pxd\u001b[0m in \u001b[0;36mzmq.backend.cython.checkrc._check_rc\u001b[0;34m()\u001b[0m\n",
      "\u001b[0;31mKeyboardInterrupt\u001b[0m: ",
      "\nDuring handling of the above exception, another exception occurred:\n",
      "\u001b[0;31mKeyboardInterrupt\u001b[0m                         Traceback (most recent call last)",
      "\u001b[0;32m<ipython-input-105-46f3dc6696e9>\u001b[0m in \u001b[0;36m<module>\u001b[0;34m\u001b[0m\n\u001b[1;32m      1\u001b[0m \u001b[0mvar\u001b[0m \u001b[0;34m=\u001b[0m \u001b[0;36m1\u001b[0m\u001b[0;34m\u001b[0m\u001b[0;34m\u001b[0m\u001b[0m\n\u001b[1;32m      2\u001b[0m \u001b[0;32mwhile\u001b[0m \u001b[0mvar\u001b[0m \u001b[0;34m==\u001b[0m \u001b[0;36m1\u001b[0m\u001b[0;34m:\u001b[0m  \u001b[0;31m# This constructs an infinite loop\u001b[0m\u001b[0;34m\u001b[0m\u001b[0;34m\u001b[0m\u001b[0m\n\u001b[0;32m----> 3\u001b[0;31m     \u001b[0mnum\u001b[0m \u001b[0;34m=\u001b[0m \u001b[0minput\u001b[0m\u001b[0;34m(\u001b[0m\u001b[0;34m'Enter a number: '\u001b[0m\u001b[0;34m)\u001b[0m\u001b[0;34m\u001b[0m\u001b[0;34m\u001b[0m\u001b[0m\n\u001b[0m\u001b[1;32m      4\u001b[0m     \u001b[0mprint\u001b[0m\u001b[0;34m(\u001b[0m\u001b[0;34m'You entered: {}'\u001b[0m\u001b[0;34m.\u001b[0m\u001b[0mformat\u001b[0m\u001b[0;34m(\u001b[0m\u001b[0mnum\u001b[0m\u001b[0;34m)\u001b[0m\u001b[0;34m)\u001b[0m\u001b[0;34m\u001b[0m\u001b[0;34m\u001b[0m\u001b[0m\n\u001b[1;32m      5\u001b[0m \u001b[0;34m\u001b[0m\u001b[0m\n",
      "\u001b[0;32m~/DS/miniconda3/envs/playground/lib/python3.7/site-packages/ipykernel/kernelbase.py\u001b[0m in \u001b[0;36mraw_input\u001b[0;34m(self, prompt)\u001b[0m\n\u001b[1;32m    857\u001b[0m             \u001b[0mself\u001b[0m\u001b[0;34m.\u001b[0m\u001b[0m_parent_ident\u001b[0m\u001b[0;34m,\u001b[0m\u001b[0;34m\u001b[0m\u001b[0;34m\u001b[0m\u001b[0m\n\u001b[1;32m    858\u001b[0m             \u001b[0mself\u001b[0m\u001b[0;34m.\u001b[0m\u001b[0m_parent_header\u001b[0m\u001b[0;34m,\u001b[0m\u001b[0;34m\u001b[0m\u001b[0;34m\u001b[0m\u001b[0m\n\u001b[0;32m--> 859\u001b[0;31m             \u001b[0mpassword\u001b[0m\u001b[0;34m=\u001b[0m\u001b[0;32mFalse\u001b[0m\u001b[0;34m,\u001b[0m\u001b[0;34m\u001b[0m\u001b[0;34m\u001b[0m\u001b[0m\n\u001b[0m\u001b[1;32m    860\u001b[0m         )\n\u001b[1;32m    861\u001b[0m \u001b[0;34m\u001b[0m\u001b[0m\n",
      "\u001b[0;32m~/DS/miniconda3/envs/playground/lib/python3.7/site-packages/ipykernel/kernelbase.py\u001b[0m in \u001b[0;36m_input_request\u001b[0;34m(self, prompt, ident, parent, password)\u001b[0m\n\u001b[1;32m    887\u001b[0m             \u001b[0;32mexcept\u001b[0m \u001b[0mKeyboardInterrupt\u001b[0m\u001b[0;34m:\u001b[0m\u001b[0;34m\u001b[0m\u001b[0;34m\u001b[0m\u001b[0m\n\u001b[1;32m    888\u001b[0m                 \u001b[0;31m# re-raise KeyboardInterrupt, to truncate traceback\u001b[0m\u001b[0;34m\u001b[0m\u001b[0;34m\u001b[0m\u001b[0;34m\u001b[0m\u001b[0m\n\u001b[0;32m--> 889\u001b[0;31m                 \u001b[0;32mraise\u001b[0m \u001b[0mKeyboardInterrupt\u001b[0m\u001b[0;34m\u001b[0m\u001b[0;34m\u001b[0m\u001b[0m\n\u001b[0m\u001b[1;32m    890\u001b[0m             \u001b[0;32melse\u001b[0m\u001b[0;34m:\u001b[0m\u001b[0;34m\u001b[0m\u001b[0;34m\u001b[0m\u001b[0m\n\u001b[1;32m    891\u001b[0m                 \u001b[0;32mbreak\u001b[0m\u001b[0;34m\u001b[0m\u001b[0;34m\u001b[0m\u001b[0m\n",
      "\u001b[0;31mKeyboardInterrupt\u001b[0m: "
     ]
    }
   ],
   "source": [
    "var = 1\n",
    "while var == 1:  # This constructs an infinite loop\n",
    "    num = input('Enter a number: ')\n",
    "    print('You entered: {}'.format(num))\n",
    " \n",
    " \n",
    "while True:  # This constructs an infinite loop\n",
    "    num = input('Enter a number: ')\n",
    "    print('You entered: {}'.format(num))"
   ]
  },
  {
   "cell_type": "markdown",
   "metadata": {},
   "source": [
    "Potongan kode di atas tidak akan pernah bernilai False karena nilai var tidak pernah berubah. Untuk menghentikan infinite loop, gunakan CTRL (atau CMD⌘) - C untuk menghentikannya dan keluar dari program."
   ]
  },
  {
   "cell_type": "markdown",
   "metadata": {},
   "source": [
    "#### Perulangan Bertingkat"
   ]
  },
  {
   "cell_type": "code",
   "execution_count": 106,
   "metadata": {},
   "outputs": [
    {
     "name": "stdout",
     "output_type": "stream",
     "text": [
      "*****\n",
      "****\n",
      "***\n",
      "**\n",
      "*\n"
     ]
    }
   ],
   "source": [
    "for i in range(0, 5):\n",
    "    for j in range(0, 5 - i):\n",
    "        print('*', end='')\n",
    "    print()"
   ]
  },
  {
   "cell_type": "markdown",
   "metadata": {},
   "source": [
    "**Tip:** Tambahkan parameter end pada print untuk mengatur karakter yang mengakhiri pencetakan string/teks Anda. Secara default, karakter end ini adalah newline ('\\n')."
   ]
  },
  {
   "cell_type": "markdown",
   "metadata": {},
   "source": [
    "### Kontrol Perulangan\n",
    "#### Break"
   ]
  },
  {
   "cell_type": "code",
   "execution_count": 107,
   "metadata": {},
   "outputs": [
    {
     "name": "stdout",
     "output_type": "stream",
     "text": [
      "Current letter: P\n",
      "Current letter: y\n",
      "Current letter: t\n"
     ]
    }
   ],
   "source": [
    "for letter in 'Python':     # First Example\n",
    "    if letter == 'h':\n",
    "        break\n",
    "    print('Current letter: {}'.format(letter))"
   ]
  },
  {
   "cell_type": "code",
   "execution_count": 108,
   "metadata": {},
   "outputs": [
    {
     "name": "stdout",
     "output_type": "stream",
     "text": [
      "Current variable value: 10\n",
      "Current variable value: 9\n",
      "Current variable value: 8\n",
      "Current variable value: 7\n",
      "Current variable value: 6\n"
     ]
    }
   ],
   "source": [
    "var = 10                    # Second Example\n",
    "while var > 0:             \n",
    "    print('Current variable value: {}'.format(var))\n",
    "    var = var - 1\n",
    "    if var == 5:\n",
    "        break"
   ]
  },
  {
   "cell_type": "markdown",
   "metadata": {},
   "source": [
    "#### Continue"
   ]
  },
  {
   "cell_type": "code",
   "execution_count": 109,
   "metadata": {},
   "outputs": [
    {
     "name": "stdout",
     "output_type": "stream",
     "text": [
      "Current letter: P\n",
      "Current letter: y\n",
      "Current letter: t\n",
      "Current letter: o\n",
      "Current letter: n\n"
     ]
    }
   ],
   "source": [
    "for letter in 'Python':     # First Example\n",
    "    if letter == 'h':\n",
    "        continue\n",
    "    print('Current letter: {}'.format(letter))"
   ]
  },
  {
   "cell_type": "code",
   "execution_count": 110,
   "metadata": {},
   "outputs": [
    {
     "name": "stdout",
     "output_type": "stream",
     "text": [
      "Elemen positif: 1\n",
      "Elemen positif: 2\n",
      "Elemen positif: 3\n"
     ]
    }
   ],
   "source": [
    "for a in [0, 1, -1, 2, -2, 3, -3]:     #Second Example\n",
    "    if a <= 0:\n",
    "        continue\n",
    "    print('Elemen positif: {}'.format(a))"
   ]
  },
  {
   "cell_type": "code",
   "execution_count": 111,
   "metadata": {},
   "outputs": [
    {
     "name": "stdout",
     "output_type": "stream",
     "text": [
      "Current variable value: 9\n",
      "Current variable value: 8\n",
      "Current variable value: 7\n",
      "Current variable value: 6\n",
      "Current variable value: 4\n",
      "Current variable value: 3\n",
      "Current variable value: 2\n",
      "Current variable value: 1\n",
      "Current variable value: 0\n"
     ]
    }
   ],
   "source": [
    "var = 10                    # Third Example\n",
    "while var > 0:             \n",
    "    var = var -1\n",
    "    if var == 5:\n",
    "        continue\n",
    "    print('Current variable value: {}'.format(var))"
   ]
  },
  {
   "cell_type": "markdown",
   "metadata": {},
   "source": [
    "#### Else setelah For\n",
    "Pada Python juga dikenal fungsi else setelah for. Fungsinya diutamakan pada perulangan yang bersifat pencarian - untuk memberikan jalan keluar program saat pencarian tidak ditemukan.\n",
    "\n",
    "Bentuk pseudocode\n",
    "\n",
    "`if any(something_about(thing) for each thing in container):\n",
    "    do_something(that_thing)\n",
    "else:\n",
    "    no_such_thing()`"
   ]
  },
  {
   "cell_type": "markdown",
   "metadata": {},
   "source": [
    "Struktur umumnya:\n",
    "\n",
    "`for item in container:\n",
    "    if search_something(item):\n",
    "        process(item) # Found it\n",
    "        break\n",
    "else:\n",
    "    not_found_in_container() # Didn't find anything..`"
   ]
  },
  {
   "cell_type": "code",
   "execution_count": 112,
   "metadata": {},
   "outputs": [
    {
     "name": "stdout",
     "output_type": "stream",
     "text": [
      "4 equals 2 * 2.0\n",
      "6 equals 2 * 3.0\n",
      "8 equals 2 * 4.0\n",
      "9 equals 3 * 3.0\n"
     ]
    }
   ],
   "source": [
    "for n in range(2, 10):\n",
    "    for x in range(2, n):\n",
    "        if n % x == 0:\n",
    "            print(n, 'equals', x, '*', n/x)\n",
    "            break"
   ]
  },
  {
   "cell_type": "code",
   "execution_count": 113,
   "metadata": {},
   "outputs": [
    {
     "name": "stdout",
     "output_type": "stream",
     "text": [
      "2 is a prime number\n",
      "3 is a prime number\n",
      "4 equals 2 * 2.0\n",
      "5 is a prime number\n",
      "6 equals 2 * 3.0\n",
      "7 is a prime number\n",
      "8 equals 2 * 4.0\n",
      "9 equals 3 * 3.0\n"
     ]
    }
   ],
   "source": [
    "for n in range(2, 10):\n",
    "    for x in range(2, n):\n",
    "        if n % x == 0:\n",
    "            print( n, 'equals', x, '*', n/x)\n",
    "            break\n",
    "    else:\n",
    "        # loop fell through without finding a factor\n",
    "        print(n, 'is a prime number')"
   ]
  },
  {
   "cell_type": "markdown",
   "metadata": {},
   "source": [
    "#### Else setelah While\n",
    "Berbeda dengan Else setelah For, pada statement while, blok statement else akan selalu dieksekusi saat kondisi pada while menjadi salah."
   ]
  },
  {
   "cell_type": "code",
   "execution_count": 114,
   "metadata": {},
   "outputs": [
    {
     "name": "stdout",
     "output_type": "stream",
     "text": [
      "4\n",
      "3\n"
     ]
    }
   ],
   "source": [
    "n = 5\n",
    "while n > 0:\n",
    "    n = n - 1\n",
    "    if n == 2:\n",
    "        break\n",
    "    print(n)\n",
    "else:\n",
    "    print(\"Loop is finished\")"
   ]
  },
  {
   "cell_type": "markdown",
   "metadata": {},
   "source": [
    "#### Pass\n",
    "Digunakan jika menginginkan sebuah pernyataan atau blok pernyataan (statement), namun tidak melakukan apapun - melanjutkan eksekusi sesuai dengan seharusnya. Kontrol ini banyak digunakan saat belum melakukan implementasi (dan mengisi pernyataan dengan seharusnya), serta membiarkan program tetap berjalan saat misalnya mengalami kegagalan atau exception."
   ]
  },
  {
   "cell_type": "code",
   "execution_count": 115,
   "metadata": {},
   "outputs": [
    {
     "name": "stdout",
     "output_type": "stream",
     "text": [
      "Current letter: P\n",
      "Current letter: y\n",
      "Current letter: t\n",
      "This is pass block\n",
      "Current letter: h\n",
      "Current letter: o\n",
      "Current letter: n\n"
     ]
    }
   ],
   "source": [
    "for letter in 'Python':\n",
    "    if letter == 'h':\n",
    "        pass\n",
    "        print (\"This is pass block\")\n",
    "    print('Current letter: {}'.format(letter))"
   ]
  },
  {
   "cell_type": "code",
   "execution_count": 116,
   "metadata": {},
   "outputs": [
    {
     "name": "stdout",
     "output_type": "stream",
     "text": [
      "Lower letter: y\n",
      "Lower letter: t\n",
      "Lower letter: h\n",
      "Lower letter: o\n",
      "Lower letter: n\n"
     ]
    }
   ],
   "source": [
    "for letter in 'Python':\n",
    "    if letter.isupper():\n",
    "        pass  # will process later\n",
    "    else:\n",
    "        print('Lower letter: {}'.format(letter))"
   ]
  },
  {
   "cell_type": "markdown",
   "metadata": {},
   "source": [
    "Contoh untuk mengantisipasi exception/kegagalan fungsi, perhatikan contoh kode yang belum ditambahkan pass berikut:"
   ]
  },
  {
   "cell_type": "code",
   "execution_count": 118,
   "metadata": {},
   "outputs": [
    {
     "name": "stdout",
     "output_type": "stream",
     "text": [
      "Please enter an integer (type exit to exit): 10\n",
      "10\n",
      "Please enter an integer (type exit to exit): exit\n"
     ]
    },
    {
     "ename": "ValueError",
     "evalue": "invalid literal for int() with base 10: 'exit'",
     "output_type": "error",
     "traceback": [
      "\u001b[0;31m---------------------------------------------------------------------------\u001b[0m",
      "\u001b[0;31mValueError\u001b[0m                                Traceback (most recent call last)",
      "\u001b[0;32m<ipython-input-118-45dd54642b3d>\u001b[0m in \u001b[0;36m<module>\u001b[0;34m\u001b[0m\n\u001b[1;32m      2\u001b[0m \u001b[0;32mwhile\u001b[0m\u001b[0;34m(\u001b[0m\u001b[0mvar1\u001b[0m\u001b[0;34m!=\u001b[0m\u001b[0;34m\"exit\"\u001b[0m\u001b[0;34m)\u001b[0m\u001b[0;34m:\u001b[0m\u001b[0;34m\u001b[0m\u001b[0;34m\u001b[0m\u001b[0m\n\u001b[1;32m      3\u001b[0m     \u001b[0mvar1\u001b[0m\u001b[0;34m=\u001b[0m\u001b[0minput\u001b[0m\u001b[0;34m(\u001b[0m\u001b[0;34m\"Please enter an integer (type exit to exit): \"\u001b[0m\u001b[0;34m)\u001b[0m\u001b[0;34m\u001b[0m\u001b[0;34m\u001b[0m\u001b[0m\n\u001b[0;32m----> 4\u001b[0;31m     \u001b[0mprint\u001b[0m\u001b[0;34m(\u001b[0m\u001b[0mint\u001b[0m\u001b[0;34m(\u001b[0m\u001b[0mvar1\u001b[0m\u001b[0;34m)\u001b[0m\u001b[0;34m)\u001b[0m\u001b[0;34m\u001b[0m\u001b[0;34m\u001b[0m\u001b[0m\n\u001b[0m",
      "\u001b[0;31mValueError\u001b[0m: invalid literal for int() with base 10: 'exit'"
     ]
    }
   ],
   "source": [
    "var1=\"\"\n",
    "while(var1!=\"exit\"):\n",
    "    var1=input(\"Please enter an integer (type exit to exit): \")\n",
    "    print(int(var1))"
   ]
  },
  {
   "cell_type": "code",
   "execution_count": 119,
   "metadata": {},
   "outputs": [
    {
     "name": "stdout",
     "output_type": "stream",
     "text": [
      "Please enter an integer (type exit to exit): 1\n",
      "got integer: 1\n",
      "Please enter an integer (type exit to exit): a\n",
      "error: <class 'ValueError'>\n",
      "Please enter an integer (type exit to exit): b\n",
      "error: <class 'ValueError'>\n",
      "Please enter an integer (type exit to exit): c\n",
      "error: <class 'ValueError'>\n",
      "Please enter an integer (type exit to exit): exit\n"
     ]
    }
   ],
   "source": [
    "import sys\n",
    "data=''\n",
    "while(data!='exit'):\n",
    "    try:\n",
    "        data=input('Please enter an integer (type exit to exit): ')\n",
    "        print('got integer: {}'.format(int(data)))\n",
    "    except:\n",
    "        if data == 'exit':\n",
    "            pass  # exit gracefully without prompt any error\n",
    "        else:\n",
    "            print('error: {}'.format(sys.exc_info()[0]))"
   ]
  },
  {
   "cell_type": "markdown",
   "metadata": {},
   "source": [
    "#### List Comprehension (membuat list dengan inline loop dan if)\n",
    "Ada kalanya perlu untuk membuat sebuah list baru dari dengan sebuah operasi dari list sebelumnya."
   ]
  },
  {
   "cell_type": "code",
   "execution_count": 120,
   "metadata": {},
   "outputs": [
    {
     "name": "stdout",
     "output_type": "stream",
     "text": [
      "[1, 4, 9, 16]\n"
     ]
    }
   ],
   "source": [
    "#Cara 1\n",
    "numbers = [1, 2, 3, 4]\n",
    "squares = []\n",
    "for n in numbers:\n",
    "  squares.append(n**2)\n",
    "print(squares)"
   ]
  },
  {
   "cell_type": "code",
   "execution_count": 121,
   "metadata": {},
   "outputs": [
    {
     "name": "stdout",
     "output_type": "stream",
     "text": [
      "[1, 4, 9, 16]\n"
     ]
    }
   ],
   "source": [
    "#Cara 2 List Comprehension\n",
    "numbers = [1, 2, 3, 4]\n",
    "squares = [n**2 for n in numbers]\n",
    "print(squares)"
   ]
  },
  {
   "cell_type": "markdown",
   "metadata": {},
   "source": [
    "List comprehension adalah salah satu cara untuk menghasilkan list baru berdasarkan list atau iterables yang telah ada sebelumnya. Sintaksis dasarnya adalah sebagai berikut:\n",
    "\n",
    "`new_list = [expression for_loop_one_or_more conditions]`"
   ]
  },
  {
   "cell_type": "code",
   "execution_count": 122,
   "metadata": {},
   "outputs": [
    {
     "name": "stdout",
     "output_type": "stream",
     "text": [
      "[2, 3, 4]\n"
     ]
    }
   ],
   "source": [
    "#Contoh3 menemukan bilangan yang ada di kedua list\n",
    "list_a = [1, 2, 3, 4]\n",
    "list_b = [2, 3, 4, 5]\n",
    "common_num = []\n",
    "for a in list_a:\n",
    "  for b in list_b:\n",
    "    if a == b:\n",
    "      common_num.append(a)\n",
    "     \n",
    "print(common_num)  # Output [2, 3, 4]"
   ]
  },
  {
   "cell_type": "code",
   "execution_count": 123,
   "metadata": {},
   "outputs": [
    {
     "name": "stdout",
     "output_type": "stream",
     "text": [
      "[2, 3, 4]\n"
     ]
    }
   ],
   "source": [
    "#Contoh4 Implementasi dengan list comprehension\n",
    "list_a = [1, 2, 3, 4]\n",
    "list_b = [2, 3, 4, 5]\n",
    "common_num = [a for a in list_a for b in list_b if a == b]\n",
    "print(common_num) # Output: [2, 3, 4]"
   ]
  },
  {
   "cell_type": "code",
   "execution_count": 124,
   "metadata": {},
   "outputs": [
    {
     "name": "stdout",
     "output_type": "stream",
     "text": [
      "['hello', 'world', 'in', 'python']\n"
     ]
    }
   ],
   "source": [
    "# Contoh 5 kecilkan semua huruf\n",
    "list_a = [\"Hello\", \"World\", \"In\", \"Python\"]\n",
    "small_list_a = [_.lower() for _ in list_a]\n",
    "print(small_list_a) # Output: ['hello', 'world', 'in', 'python']"
   ]
  },
  {
   "cell_type": "markdown",
   "metadata": {},
   "source": [
    "Tidak perlu bingung saat melihat kode di Internet yang menuliskan seperti contoh di atas, karena garis bawah (underscore) termasuk penamaan variabel yang valid."
   ]
  },
  {
   "cell_type": "code",
   "execution_count": 125,
   "metadata": {},
   "outputs": [
    {
     "name": "stdout",
     "output_type": "stream",
     "text": [
      "[[1, 1], [9, 27], [25, 125], [49, 343], [81, 729]]\n"
     ]
    }
   ],
   "source": [
    "list_a = range(1, 10, 2)\n",
    "x = [[a**2, a**3] for a in list_a]\n",
    "print(x)"
   ]
  },
  {
   "cell_type": "markdown",
   "metadata": {},
   "source": [
    "### Penanganan Kesalahan (Error and Exception Handling)\n",
    "Ada setidaknya dua jenis kesalahan berdasarkan kejadiannya: \n",
    "\n",
    "1. Kesalahan sintaksis (syntax errors) atau sering disebut kesalahan penguraian (parsing errors)\n",
    "2. Pengecualian (exceptions) atau sering disebut kesalahan saat beroperasi (runtime errors)"
   ]
  },
  {
   "cell_type": "markdown",
   "metadata": {},
   "source": [
    "#### Kesalahan Sintaksis\n",
    "\n",
    "Contoh penempatan indentasi (spasi di awal) yang tidak sesuai\n",
    "\n",
    "`print('salah indentasi')\n",
    " File \"<stdin>\", line 1\n",
    "   print('salah indentasi')\n",
    "   ^\n",
    "IndentationError: unexpected indent`\n",
    "\n",
    "Contoh lain dimana setelah kondisi dari perintah while diharuskan ada tanda titik dua (:).\n",
    "\n",
    "`while True print('Hello world')\n",
    " File \"<stdin>\", line 1\n",
    "   while True print('Hello world')\n",
    "                  ^\n",
    "SyntaxError: invalid syntax`\n",
    "\n",
    "Contoh pada pemanggilan skrip bernama contoh_salah_sintaksis.py dimana terjadi kesalahan pada baris 2\n",
    "\n",
    "`python contoh_salah_sintaksis.py  \n",
    " File \"contoh_salah_sintaksis.py\", line 2\n",
    "   if True print('salah sintaksis')\n",
    "               ^\n",
    "SyntaxError: invalid syntax`"
   ]
  },
  {
   "cell_type": "markdown",
   "metadata": {},
   "source": [
    "#### Pengecualian\n",
    "Kesalahan yang terjadi saat proses sedang berlangsung disebut pengecualian (exceptions) dan akan berakibat fatal jika tidak ditangani.\n",
    "\n",
    "`print(angka)\n",
    "Traceback (most recent call last):\n",
    " File \"<stdin>\", line 1, in <module>\n",
    "NameError: name 'angka' is not defined`\n",
    "\n",
    "Contoh lain terkait pengecualian yang sering juga terjadi adalah operasi dari variabel yang jenisnya tidak sesuai, misalnya contoh berikut."
   ]
  },
  {
   "cell_type": "code",
   "execution_count": 126,
   "metadata": {},
   "outputs": [
    {
     "ename": "TypeError",
     "evalue": "can only concatenate str (not \"int\") to str",
     "output_type": "error",
     "traceback": [
      "\u001b[0;31m---------------------------------------------------------------------------\u001b[0m",
      "\u001b[0;31mTypeError\u001b[0m                                 Traceback (most recent call last)",
      "\u001b[0;32m<ipython-input-126-b6c2ac5504ee>\u001b[0m in \u001b[0;36m<module>\u001b[0;34m\u001b[0m\n\u001b[1;32m      1\u001b[0m \u001b[0mbukan_angka\u001b[0m \u001b[0;34m=\u001b[0m \u001b[0;34m'1'\u001b[0m\u001b[0;34m\u001b[0m\u001b[0;34m\u001b[0m\u001b[0m\n\u001b[0;32m----> 2\u001b[0;31m \u001b[0mbukan_angka\u001b[0m \u001b[0;34m+\u001b[0m \u001b[0;36m2\u001b[0m\u001b[0;34m\u001b[0m\u001b[0;34m\u001b[0m\u001b[0m\n\u001b[0m",
      "\u001b[0;31mTypeError\u001b[0m: can only concatenate str (not \"int\") to str"
     ]
    }
   ],
   "source": [
    "bukan_angka = '1'\n",
    "bukan_angka + 2"
   ]
  },
  {
   "cell_type": "markdown",
   "metadata": {},
   "source": [
    "`Traceback (most recent call last):\n",
    " File \"<stdin>\", line 1, in <module>\n",
    "TypeError: can only concatenate str (not \"int\") to str`\n",
    "\n",
    "Untuk mengetahui berbagai jenis pengecualian bawaan dari Python, bisa kunjungi situs dokumentasi https://docs.python.org/id/3.8/library/exceptions.html"
   ]
  },
  {
   "cell_type": "markdown",
   "metadata": {},
   "source": [
    "#### Penanganan Pengecualian\n",
    "Misalnya kita ingin menangani pengecualian yang terjadi jika ada pembagian angka dengan nilai nol (0)."
   ]
  },
  {
   "cell_type": "code",
   "execution_count": 127,
   "metadata": {},
   "outputs": [
    {
     "ename": "ZeroDivisionError",
     "evalue": "division by zero",
     "output_type": "error",
     "traceback": [
      "\u001b[0;31m---------------------------------------------------------------------------\u001b[0m",
      "\u001b[0;31mZeroDivisionError\u001b[0m                         Traceback (most recent call last)",
      "\u001b[0;32m<ipython-input-127-c7b01da5bcb5>\u001b[0m in \u001b[0;36m<module>\u001b[0;34m\u001b[0m\n\u001b[1;32m      1\u001b[0m \u001b[0mz\u001b[0m \u001b[0;34m=\u001b[0m \u001b[0;36m0\u001b[0m\u001b[0;34m\u001b[0m\u001b[0;34m\u001b[0m\u001b[0m\n\u001b[0;32m----> 2\u001b[0;31m \u001b[0;36m1\u001b[0m \u001b[0;34m/\u001b[0m \u001b[0mz\u001b[0m\u001b[0;34m\u001b[0m\u001b[0;34m\u001b[0m\u001b[0m\n\u001b[0m",
      "\u001b[0;31mZeroDivisionError\u001b[0m: division by zero"
     ]
    }
   ],
   "source": [
    "z = 0\n",
    "1 / z"
   ]
  },
  {
   "cell_type": "markdown",
   "metadata": {},
   "source": [
    "`Traceback (most recent call last):\n",
    " File \"<stdin>\", line 1, in <module>\n",
    "ZeroDivisionError: division by zero`\n",
    "\n",
    "`try:\n",
    "... x = 1 / z\n",
    "... print(x)\n",
    "... except ZeroDivisionError:\n",
    "...     print('tidak bisa membagi angka dengan nilai nol')\n",
    "...  \n",
    "tidak bisa membagi angka dengan nilai nol`"
   ]
  },
  {
   "cell_type": "markdown",
   "metadata": {},
   "source": [
    "Pernyataan except dilanjutkan dengan kelompok (tipe) kesalahan yang ingin ditangani, atau bisa juga berupa tuple dari satu atau lebih tipe kesalahan yang akan ditangani. Di contoh berikut, menangani FileNotFoundError sebagai tuple satu elemen, jangan lupa dalam menuliskan tuple satu elemen harus tetap diakhiri dengan koma.\n",
    "\n",
    "`>>> try:\n",
    "...     with open('contoh_tidak_ada.py') as file:                   \n",
    "...         print(file.read())                          \n",
    "... except (FileNotFoundError, ):\n",
    "...     print('file tidak ditemukan')\n",
    "...  \n",
    "file tidak ditemukan`"
   ]
  },
  {
   "cell_type": "markdown",
   "metadata": {},
   "source": [
    "Dalam aplikasi yang lebih kompleks, penanganan pengecualian dapat menggunakan pernyataan except lebih dari satu. Di contoh berikutnya akan menggunakan pernyataan except lebih dari satu (untuk satu pernyataan try), maupun menggunakan satu pernyataan except yang menangani lebih dari satu tipe kesalahan yang digabung dalam sebuah tuple.\n",
    "\n",
    "`... d = {'ratarata': '10.0'}\n",
    "... try:\n",
    "...     print('rata-rata: {}'.format(d['rata_rata']))\n",
    "... except KeyError:                                 \n",
    "...     print('kunci tidak ditemukan di dictionary')\n",
    "... except ValueError:              \n",
    "...     print('nilai tidak sesuai')\n",
    "...  \n",
    "kunci tidak ditemukan di dictionary\n",
    "... try:\n",
    "...     print('rata-rata: {}'.format(d['ratarata']/3))\n",
    "... except KeyError:                                 \n",
    "...     print('kunci tidak ditemukan di dictionary')\n",
    "... except (ValueError, TypeError):\n",
    "...     print('nilai atau tipe tidak sesuai')\n",
    "...  \n",
    "nilai atau tipe tidak sesuai\n",
    "... try:\n",
    "...     print('pembulatan rata-rata: {}'.format(int(d['ratarata'])))\n",
    "... except (ValueError, TypeError) as e:         \n",
    "...     print('penangan kesalahan: {}'.format(e))\n",
    "...  \n",
    "penangan kesalahan: invalid literal for int() with base 10: '10.0'`"
   ]
  },
  {
   "cell_type": "markdown",
   "metadata": {},
   "source": [
    "Bentuk lengkap dari pernyataan try dapat dilihat pada bagan berikut, terdiri dari pernyataan except, else, finally.\n",
    "![try catch](https://dicodingacademy.blob.core.windows.net/academies/202001141653265de18b6bccc27cecdcae7712bc66c163.png)"
   ]
  },
  {
   "cell_type": "markdown",
   "metadata": {},
   "source": [
    "#### Menghasilkan Pengecualian\n",
    "Dalam membuat aplikasi, ada kemungkinan butuh untuk menghasilkan pengecualian (raise exceptions), salah satu caranya bisa dengan menggunakan pengecualian yang sudah ada, hanya ditambahkan informasi detailnya saja.\n",
    "\n",
    "Misalnya dalam contoh berikut, Anda mewajibkan sebuah dictionary memiliki kunci (key) total.\n",
    "\n",
    "`... d = {'ratarata': '10.0'}\n",
    "... if 'total' not in d:                                                                                                                         \n",
    "...     raise KeyError('harus memiliki total')                                                                           \n",
    "...                                                                                                                                              \n",
    "Traceback (most recent call last):                                                                                                               \n",
    " File \"<stdin>\", line 2, in <module>                                                                                                            \n",
    "KeyError: 'harus memiliki total'`"
   ]
  },
  {
   "cell_type": "markdown",
   "metadata": {},
   "source": [
    "## Fungsi\n",
    "\n",
    "Fungsi adalah blok kode yang terorganisasi dengan baik sehingga dapat digunakan kembali (reusable). Beberapa syarat umum fungsi adalah modularisasi dan fungsionalitasnya. Jadi sebaiknya fungsi hanya memiliki satu kegunaan spesifik namun dapat digunakan kembali.\n",
    "\n",
    "### Mendefinisikan fungsi\n",
    "Fungsi didefinisikan dengan keyword def diikuti dengan nama fungsi dan parameternya dalam kurung ().\n",
    "\n",
    "`def functionname( parameters ):\n",
    "   \"function_docstring\"\n",
    "   function_suite\n",
    "   return [expression]`\n",
    "   \n",
    "Secara default, Python akan memposisikan setiap parameter sesuai dengan urutan pendaftaran pada saat didefinisikan, dan harus dipanggil sesuai dengan urutan tersebut.\n",
    "\n",
    "`def printme( str ):\n",
    "   print(str)\n",
    "   return`\n",
    "   \n",
    "`def printme(str):\n",
    "    print(str)`"
   ]
  },
  {
   "cell_type": "markdown",
   "metadata": {},
   "source": [
    "### Memanggil Fungsi"
   ]
  },
  {
   "cell_type": "code",
   "execution_count": 129,
   "metadata": {},
   "outputs": [
    {
     "name": "stdout",
     "output_type": "stream",
     "text": [
      "Panggilan Pertama\n",
      "Panggilan Kedua\n"
     ]
    }
   ],
   "source": [
    "def printme( str ):\n",
    "    print(str)\n",
    "    return\n",
    "#panggil\n",
    "printme(\"Panggilan Pertama\")\n",
    "printme(\"Panggilan Kedua\")"
   ]
  },
  {
   "cell_type": "markdown",
   "metadata": {},
   "source": [
    "### Return\n",
    "Pernyataan return [expression] akan membuat eksekusi program keluar dari fungsi saat itu, sekaligus mengembalikan nilai tertentu. "
   ]
  },
  {
   "cell_type": "code",
   "execution_count": 130,
   "metadata": {},
   "outputs": [
    {
     "name": "stdout",
     "output_type": "stream",
     "text": [
      "Inside the function: 30\n",
      "Outside the function: 30\n"
     ]
    }
   ],
   "source": [
    "def sum(arg1, arg2):\n",
    "    # Add both the parameters and return them.\n",
    "    total = arg1 + arg2\n",
    "    print('Inside the function: {}'.format(total))\n",
    "    return total\n",
    "# Panggil sum\n",
    "total = sum(10, 20);\n",
    "print('Outside the function: {}'.format(total))"
   ]
  },
  {
   "cell_type": "code",
   "execution_count": 131,
   "metadata": {},
   "outputs": [
    {
     "name": "stdout",
     "output_type": "stream",
     "text": [
      "nilai kuadrat dari 10 adalah 100\n"
     ]
    }
   ],
   "source": [
    "def kuadrat(x):\n",
    "    return x*x\n",
    "a = 10\n",
    "k = kuadrat(a)\n",
    "print('nilai kuadrat dari {} adalah {}'.format(a, k))"
   ]
  },
  {
   "cell_type": "markdown",
   "metadata": {},
   "source": [
    "### Pass by reference vs value\n",
    "Seluruh parameter (argumen) pada bahasa Python bersifat “passed by reference”. Artinya saat mengubah sebuah variabel, maka data yang mereferensi padanya juga akan berubah, baik di dalam fungsi, maupun di luar fungsi pemanggil. Kecuali jika melakukan operasi assignment yang akan mengubah reference parameter."
   ]
  },
  {
   "cell_type": "code",
   "execution_count": 132,
   "metadata": {},
   "outputs": [
    {
     "name": "stdout",
     "output_type": "stream",
     "text": [
      "Nilai di dalam fungsi: [10, 20, 30, [1, 2, 3, 4]]\n",
      "Nilai di luar fungsi: [10, 20, 30, [1, 2, 3, 4]]\n"
     ]
    }
   ],
   "source": [
    "def changeme(mylist):\n",
    "    mylist.append([1, 2, 3, 4])\n",
    "    print('Nilai di dalam fungsi: {}'.format(mylist))\n",
    " \n",
    "# Panggil changeme\n",
    "mylist = [10, 20, 30]\n",
    "changeme(mylist)\n",
    "print('Nilai di luar fungsi: {}'.format(mylist))"
   ]
  },
  {
   "cell_type": "code",
   "execution_count": 133,
   "metadata": {},
   "outputs": [
    {
     "name": "stdout",
     "output_type": "stream",
     "text": [
      "Nilai di dalam fungsi: [1, 2, 3, 4]\n",
      "Nilai di luar fungsi: [10, 20, 30]\n"
     ]
    }
   ],
   "source": [
    "# Function definition is here\n",
    "def changeme(mylist):\n",
    "    \"Variabel mylist berikut hanya dikenali (berlaku) di dalam fungsi\"\n",
    "    mylist = [1, 2, 3, 4]  # This would assign new reference in mylist\n",
    "    print ('Nilai di dalam fungsi: {}'.format(mylist))\n",
    " \n",
    "# Panggil fungsi changeme\n",
    "mylist = [10, 20, 30]\n",
    "changeme(mylist)\n",
    "print('Nilai di luar fungsi: {}'.format(mylist))"
   ]
  },
  {
   "cell_type": "markdown",
   "metadata": {},
   "source": [
    "### Argumen Fungsi\n",
    "Beberapa argumen yang umum digunakan dalam fungsi:\n",
    "1. Required arguments : Argumen yang wajib disertakan dan disusun secara terurut dalam pemanggilan fungsi.\n",
    "2. Keyword arguments : Argumen yang ditambahkan dengan menyertakan nama variabel/keywordnya dalam pemanggilan fungsi.\n",
    "3. Default arguments : Argumen yang bersifat tidak wajib diisi, karena telah memiliki nilai default.\n",
    "4. Variable-length arguments : Argumen yang bersifat opsional namun dapat disesuaikan banyaknya dan tidak didefinisikan secara spesifik dalam definisi fungsi."
   ]
  },
  {
   "cell_type": "code",
   "execution_count": 134,
   "metadata": {},
   "outputs": [
    {
     "name": "stdout",
     "output_type": "stream",
     "text": [
      "Name:  Dicoding\n",
      "Age:  5\n"
     ]
    }
   ],
   "source": [
    "def printinfo(name, age):\n",
    "   \"This prints a passed info into this function\"\n",
    "   print('Name: ', name)\n",
    "   print('Age: ', age)\n",
    " \n",
    "# Now you can call printinfo function (with age argument first)\n",
    "printinfo(age=5, name=\"Dicoding\")"
   ]
  },
  {
   "cell_type": "code",
   "execution_count": 135,
   "metadata": {},
   "outputs": [
    {
     "name": "stdout",
     "output_type": "stream",
     "text": [
      "Name:  Dicoding\n",
      "Age:  5\n",
      "Name:  Data\n",
      "Age:  35\n"
     ]
    }
   ],
   "source": [
    "def printinfo(name, age=35):\n",
    "   \"This prints a passed info into this function\"\n",
    "   print('Name: ', name)\n",
    "   print ('Age: ', age)\n",
    " \n",
    "# Now you can call printinfo function (with optional argument age)\n",
    "printinfo(age=5, name='Dicoding')\n",
    "printinfo(name='Data')"
   ]
  },
  {
   "cell_type": "code",
   "execution_count": 136,
   "metadata": {},
   "outputs": [
    {
     "ename": "SyntaxError",
     "evalue": "non-default argument follows default argument (<ipython-input-136-29b72912a473>, line 3)",
     "output_type": "error",
     "traceback": [
      "\u001b[0;36m  File \u001b[0;32m\"<ipython-input-136-29b72912a473>\"\u001b[0;36m, line \u001b[0;32m3\u001b[0m\n\u001b[0;31m    def printinfo(name='Data', age):\u001b[0m\n\u001b[0m                 ^\u001b[0m\n\u001b[0;31mSyntaxError\u001b[0m\u001b[0;31m:\u001b[0m non-default argument follows default argument\n"
     ]
    }
   ],
   "source": [
    "# fungsi berikut ini akan error saat didefinisikan\n",
    "# argumen dengan nilai bawaan harus setelah argumen tanpa bawaaan\n",
    "def printinfo(name='Data', age):\n",
    "   \"This prints a passed info into this function\"\n",
    "   print('Name: ', name)\n",
    "   print ('Age: ', age)"
   ]
  },
  {
   "cell_type": "markdown",
   "metadata": {},
   "source": [
    "Contoh Implementasi Variable-length arguments\n",
    "\n",
    "`def functionname([formal_args,] *var_args_tuple ):\n",
    "   \"function_docstring\"\n",
    "   function_suite\n",
    "   return [expression]`"
   ]
  },
  {
   "cell_type": "code",
   "execution_count": 137,
   "metadata": {},
   "outputs": [
    {
     "name": "stdout",
     "output_type": "stream",
     "text": [
      "Output: fixedarg 10\n",
      "Output: fixedarg 70\n",
      "argumen posisi 60\n",
      "argumen posisi 50\n"
     ]
    }
   ],
   "source": [
    "def printinfo(fixedarg, *args):\n",
    "    \"This prints a variable passed arguments\"\n",
    "    print('Output: fixedarg {}'.format(fixedarg))\n",
    "    for a in args:\n",
    "        print('argumen posisi {}'.format(a))\n",
    " \n",
    "# Panggil printinfo \n",
    "printinfo(10)\n",
    "printinfo(70, 60, 50)"
   ]
  },
  {
   "cell_type": "markdown",
   "metadata": {},
   "source": [
    "Argumen kata kunci (keyword) dapat bersifat dinamis dengan menambahkan sintaksis dua tanda bintang untuk menampung kontainer (Dictionary). \n",
    "\n",
    "Kontainer (Dictionary) ini bisa bersifat opsional, artinya tidak wajib diisi (boleh kosong), jika memang tidak ada argumen yang perlu ditambahkan. Pada saat diisi, seperti layaknya Dictionary dapat memiliki jumlah/panjang yang dinamis, dengan pasangan kunci-nilai (key-value) yang bervariasi. Jika ada argumen posisi dinamis dan argument kata kunci (keyword) dinamis, maka urutannya adalah argumen posisi dahulu, baru argumen kata kunci."
   ]
  },
  {
   "cell_type": "code",
   "execution_count": 138,
   "metadata": {},
   "outputs": [
    {
     "name": "stdout",
     "output_type": "stream",
     "text": [
      "argumen posisi 1\n",
      "argumen posisi 2\n",
      "argumen posisi 3\n",
      "argument kata kunci i:7\n",
      "argument kata kunci j:8\n",
      "argument kata kunci k:9\n",
      "argumen posisi 1\n",
      "argumen posisi 2\n",
      "argument kata kunci j:8\n",
      "argument kata kunci k:9\n",
      "argumen posisi 2\n",
      "argumen posisi 3\n",
      "argument kata kunci i:7\n",
      "argument kata kunci j:8\n"
     ]
    }
   ],
   "source": [
    "def printinfo(*args, **kwargs):\n",
    "    for a in args:\n",
    "        print('argumen posisi {}'.format(a))\n",
    "    for key, value in kwargs.items():\n",
    "        print('argument kata kunci {}:{}'.format(key, value))\n",
    " \n",
    " \n",
    "# Panggil printinfo\n",
    "printinfo()\n",
    "printinfo(1, 2, 3)\n",
    "printinfo(i=7, j=8, k=9)\n",
    "printinfo(1, 2, j=8, k=9)\n",
    "printinfo(*(2, 3), **{'i':7, 'j':8})"
   ]
  },
  {
   "cell_type": "markdown",
   "metadata": {},
   "source": [
    "### Fungsi Anonim\n",
    "Fungsi Anonim (anonymous) tidak dideklarasikan seperti halnya fungsi pada umumnya dengan kata kunci def, melainkan menggunakan kata kunci (keyword) lambda. Sebuah fungsi lambda dapat menerima argumen dalam jumlah berapa pun, namun hanya mengembalikan satu nilai expression. Fungsi Lambda tidak dapat memuat perintah atau ekspresi lainnya, misalnya tidak bisa melakukan print.\n",
    "\n",
    "`lambda [arg1 [,arg2,.....argn]]:expression`"
   ]
  },
  {
   "cell_type": "code",
   "execution_count": 139,
   "metadata": {},
   "outputs": [],
   "source": [
    "#!/usr/bin/python\n",
    "sum = lambda arg1, arg2: arg1 + arg2;"
   ]
  },
  {
   "cell_type": "code",
   "execution_count": 140,
   "metadata": {},
   "outputs": [
    {
     "name": "stdout",
     "output_type": "stream",
     "text": [
      "Value of total :  30\n",
      "Value of total :  40\n"
     ]
    }
   ],
   "source": [
    "print (\"Value of total : \", sum( 10, 20 ))\n",
    "print (\"Value of total : \", sum( 20, 20 ))"
   ]
  },
  {
   "cell_type": "markdown",
   "metadata": {},
   "source": [
    "### Cakupan Variabel\n",
    "Variabel dapat didesain untuk diakses atau tidak dapat diakses dalam lokasi atau cakupan (scope) tertentu. Hal ini bergantung lokasi mendeklarasikan variabel. Cakupan variabel secara umum dibagi menjadi dua, yakni variabel Lokal dan variabel Global."
   ]
  },
  {
   "cell_type": "code",
   "execution_count": 141,
   "metadata": {},
   "outputs": [
    {
     "name": "stdout",
     "output_type": "stream",
     "text": [
      "Inside the function: 30\n",
      "Outside the function: 0\n"
     ]
    }
   ],
   "source": [
    "total = 0  # ini variabel global\n",
    "def sum(arg1, arg2):\n",
    "    # tambahkan kedua parameter dan return\n",
    "    total = arg1 + arg2\n",
    "    print('Inside the function: {}'.format(total))\n",
    "    return total\n",
    "# panggil sum\n",
    "sum(10, 20)\n",
    "print('Outside the function: {}'.format(total)) "
   ]
  },
  {
   "cell_type": "markdown",
   "metadata": {},
   "source": [
    "Penggunaan variabel global dinilai sebagai praktek yang tidak baik dalam pemrograman, karena tingkat kesulitan saat pencarian kesalahan (debugging) untuk variabel yang memiliki cakupan global akan lebih rumit dibanding variabel lokal."
   ]
  },
  {
   "cell_type": "code",
   "execution_count": 142,
   "metadata": {},
   "outputs": [
    {
     "name": "stdout",
     "output_type": "stream",
     "text": [
      "Inside the function local total:  30\n",
      "Outside the function (global) total:  30\n"
     ]
    }
   ],
   "source": [
    "total = 0  # This is global variable.\n",
    "# fungsi didefinisikan di bawah ini\n",
    "def sum(arg1, arg2):\n",
    "    global total\n",
    "    total = arg1 + arg2 # variabel lokal total\n",
    "    print('Inside the function local total: ', total)\n",
    "    return total\n",
    " \n",
    "sum(10, 20)\n",
    "print('Outside the function (global) total: ', total)"
   ]
  }
 ],
 "metadata": {
  "kernelspec": {
   "display_name": "Python [conda env:playground] *",
   "language": "python",
   "name": "conda-env-playground-py"
  },
  "language_info": {
   "codemirror_mode": {
    "name": "ipython",
    "version": 3
   },
   "file_extension": ".py",
   "mimetype": "text/x-python",
   "name": "python",
   "nbconvert_exporter": "python",
   "pygments_lexer": "ipython3",
   "version": "3.7.7"
  }
 },
 "nbformat": 4,
 "nbformat_minor": 4
}
